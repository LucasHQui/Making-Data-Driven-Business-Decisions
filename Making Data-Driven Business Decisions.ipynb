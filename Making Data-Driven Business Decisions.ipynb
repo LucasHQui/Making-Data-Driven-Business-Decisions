{
 "cells": [
  {
   "cell_type": "code",
   "execution_count": 1,
   "metadata": {},
   "outputs": [
    {
     "name": "stderr",
     "output_type": "stream",
     "text": [
      "Matplotlib is building the font cache; this may take a moment.\n"
     ]
    }
   ],
   "source": [
    "import pandas as pd\n",
    "import scipy.stats as stats\n",
    "import matplotlib.pyplot as plt\n",
    "import datetime as dt\n",
    "import numpy as np"
   ]
  },
  {
   "cell_type": "code",
   "execution_count": 2,
   "metadata": {},
   "outputs": [
    {
     "ename": "FileNotFoundError",
     "evalue": "[Errno 2] No such file or directory: 'hypotheses_us.csv'",
     "output_type": "error",
     "traceback": [
      "\u001b[0;31m---------------------------------------------------------------------------\u001b[0m",
      "\u001b[0;31mFileNotFoundError\u001b[0m                         Traceback (most recent call last)",
      "Cell \u001b[0;32mIn[2], line 1\u001b[0m\n\u001b[0;32m----> 1\u001b[0m hypotheses \u001b[38;5;241m=\u001b[39m \u001b[43mpd\u001b[49m\u001b[38;5;241;43m.\u001b[39;49m\u001b[43mread_csv\u001b[49m\u001b[43m(\u001b[49m\u001b[38;5;124;43m'\u001b[39;49m\u001b[38;5;124;43mhypotheses_us.csv\u001b[39;49m\u001b[38;5;124;43m'\u001b[39;49m\u001b[43m,\u001b[49m\u001b[43m \u001b[49m\u001b[43msep\u001b[49m\u001b[38;5;241;43m=\u001b[39;49m\u001b[38;5;124;43m'\u001b[39;49m\u001b[38;5;124;43m;\u001b[39;49m\u001b[38;5;124;43m'\u001b[39;49m\u001b[43m)\u001b[49m\n\u001b[1;32m      2\u001b[0m hypotheses\u001b[38;5;241m.\u001b[39mrename(columns\u001b[38;5;241m=\u001b[39m{\u001b[38;5;124m'\u001b[39m\u001b[38;5;124mHypothesis\u001b[39m\u001b[38;5;124m'\u001b[39m:\u001b[38;5;124m'\u001b[39m\u001b[38;5;124mhypothesis\u001b[39m\u001b[38;5;124m'\u001b[39m}, inplace\u001b[38;5;241m=\u001b[39m\u001b[38;5;124m'\u001b[39m\u001b[38;5;124mTrue\u001b[39m\u001b[38;5;124m'\u001b[39m)\n\u001b[1;32m      3\u001b[0m hypotheses\u001b[38;5;241m.\u001b[39mrename(columns\u001b[38;5;241m=\u001b[39m{\u001b[38;5;124m'\u001b[39m\u001b[38;5;124mReach\u001b[39m\u001b[38;5;124m'\u001b[39m:\u001b[38;5;124m'\u001b[39m\u001b[38;5;124mreach\u001b[39m\u001b[38;5;124m'\u001b[39m}, inplace\u001b[38;5;241m=\u001b[39m\u001b[38;5;124m'\u001b[39m\u001b[38;5;124mTrue\u001b[39m\u001b[38;5;124m'\u001b[39m)\n",
      "File \u001b[0;32m/opt/conda/envs/python3/lib/python3.9/site-packages/pandas/io/parsers.py:610\u001b[0m, in \u001b[0;36mread_csv\u001b[0;34m(filepath_or_buffer, sep, delimiter, header, names, index_col, usecols, squeeze, prefix, mangle_dupe_cols, dtype, engine, converters, true_values, false_values, skipinitialspace, skiprows, skipfooter, nrows, na_values, keep_default_na, na_filter, verbose, skip_blank_lines, parse_dates, infer_datetime_format, keep_date_col, date_parser, dayfirst, cache_dates, iterator, chunksize, compression, thousands, decimal, lineterminator, quotechar, quoting, doublequote, escapechar, comment, encoding, dialect, error_bad_lines, warn_bad_lines, delim_whitespace, low_memory, memory_map, float_precision, storage_options)\u001b[0m\n\u001b[1;32m    605\u001b[0m kwds_defaults \u001b[38;5;241m=\u001b[39m _refine_defaults_read(\n\u001b[1;32m    606\u001b[0m     dialect, delimiter, delim_whitespace, engine, sep, defaults\u001b[38;5;241m=\u001b[39m{\u001b[38;5;124m\"\u001b[39m\u001b[38;5;124mdelimiter\u001b[39m\u001b[38;5;124m\"\u001b[39m: \u001b[38;5;124m\"\u001b[39m\u001b[38;5;124m,\u001b[39m\u001b[38;5;124m\"\u001b[39m}\n\u001b[1;32m    607\u001b[0m )\n\u001b[1;32m    608\u001b[0m kwds\u001b[38;5;241m.\u001b[39mupdate(kwds_defaults)\n\u001b[0;32m--> 610\u001b[0m \u001b[38;5;28;01mreturn\u001b[39;00m \u001b[43m_read\u001b[49m\u001b[43m(\u001b[49m\u001b[43mfilepath_or_buffer\u001b[49m\u001b[43m,\u001b[49m\u001b[43m \u001b[49m\u001b[43mkwds\u001b[49m\u001b[43m)\u001b[49m\n",
      "File \u001b[0;32m/opt/conda/envs/python3/lib/python3.9/site-packages/pandas/io/parsers.py:462\u001b[0m, in \u001b[0;36m_read\u001b[0;34m(filepath_or_buffer, kwds)\u001b[0m\n\u001b[1;32m    459\u001b[0m _validate_names(kwds\u001b[38;5;241m.\u001b[39mget(\u001b[38;5;124m\"\u001b[39m\u001b[38;5;124mnames\u001b[39m\u001b[38;5;124m\"\u001b[39m, \u001b[38;5;28;01mNone\u001b[39;00m))\n\u001b[1;32m    461\u001b[0m \u001b[38;5;66;03m# Create the parser.\u001b[39;00m\n\u001b[0;32m--> 462\u001b[0m parser \u001b[38;5;241m=\u001b[39m \u001b[43mTextFileReader\u001b[49m\u001b[43m(\u001b[49m\u001b[43mfilepath_or_buffer\u001b[49m\u001b[43m,\u001b[49m\u001b[43m \u001b[49m\u001b[38;5;241;43m*\u001b[39;49m\u001b[38;5;241;43m*\u001b[39;49m\u001b[43mkwds\u001b[49m\u001b[43m)\u001b[49m\n\u001b[1;32m    464\u001b[0m \u001b[38;5;28;01mif\u001b[39;00m chunksize \u001b[38;5;129;01mor\u001b[39;00m iterator:\n\u001b[1;32m    465\u001b[0m     \u001b[38;5;28;01mreturn\u001b[39;00m parser\n",
      "File \u001b[0;32m/opt/conda/envs/python3/lib/python3.9/site-packages/pandas/io/parsers.py:819\u001b[0m, in \u001b[0;36mTextFileReader.__init__\u001b[0;34m(self, f, engine, **kwds)\u001b[0m\n\u001b[1;32m    816\u001b[0m \u001b[38;5;28;01mif\u001b[39;00m \u001b[38;5;124m\"\u001b[39m\u001b[38;5;124mhas_index_names\u001b[39m\u001b[38;5;124m\"\u001b[39m \u001b[38;5;129;01min\u001b[39;00m kwds:\n\u001b[1;32m    817\u001b[0m     \u001b[38;5;28mself\u001b[39m\u001b[38;5;241m.\u001b[39moptions[\u001b[38;5;124m\"\u001b[39m\u001b[38;5;124mhas_index_names\u001b[39m\u001b[38;5;124m\"\u001b[39m] \u001b[38;5;241m=\u001b[39m kwds[\u001b[38;5;124m\"\u001b[39m\u001b[38;5;124mhas_index_names\u001b[39m\u001b[38;5;124m\"\u001b[39m]\n\u001b[0;32m--> 819\u001b[0m \u001b[38;5;28mself\u001b[39m\u001b[38;5;241m.\u001b[39m_engine \u001b[38;5;241m=\u001b[39m \u001b[38;5;28;43mself\u001b[39;49m\u001b[38;5;241;43m.\u001b[39;49m\u001b[43m_make_engine\u001b[49m\u001b[43m(\u001b[49m\u001b[38;5;28;43mself\u001b[39;49m\u001b[38;5;241;43m.\u001b[39;49m\u001b[43mengine\u001b[49m\u001b[43m)\u001b[49m\n",
      "File \u001b[0;32m/opt/conda/envs/python3/lib/python3.9/site-packages/pandas/io/parsers.py:1050\u001b[0m, in \u001b[0;36mTextFileReader._make_engine\u001b[0;34m(self, engine)\u001b[0m\n\u001b[1;32m   1046\u001b[0m     \u001b[38;5;28;01mraise\u001b[39;00m \u001b[38;5;167;01mValueError\u001b[39;00m(\n\u001b[1;32m   1047\u001b[0m         \u001b[38;5;124mf\u001b[39m\u001b[38;5;124m\"\u001b[39m\u001b[38;5;124mUnknown engine: \u001b[39m\u001b[38;5;132;01m{\u001b[39;00mengine\u001b[38;5;132;01m}\u001b[39;00m\u001b[38;5;124m (valid options are \u001b[39m\u001b[38;5;132;01m{\u001b[39;00mmapping\u001b[38;5;241m.\u001b[39mkeys()\u001b[38;5;132;01m}\u001b[39;00m\u001b[38;5;124m)\u001b[39m\u001b[38;5;124m\"\u001b[39m\n\u001b[1;32m   1048\u001b[0m     )\n\u001b[1;32m   1049\u001b[0m \u001b[38;5;66;03m# error: Too many arguments for \"ParserBase\"\u001b[39;00m\n\u001b[0;32m-> 1050\u001b[0m \u001b[38;5;28;01mreturn\u001b[39;00m \u001b[43mmapping\u001b[49m\u001b[43m[\u001b[49m\u001b[43mengine\u001b[49m\u001b[43m]\u001b[49m\u001b[43m(\u001b[49m\u001b[38;5;28;43mself\u001b[39;49m\u001b[38;5;241;43m.\u001b[39;49m\u001b[43mf\u001b[49m\u001b[43m,\u001b[49m\u001b[43m \u001b[49m\u001b[38;5;241;43m*\u001b[39;49m\u001b[38;5;241;43m*\u001b[39;49m\u001b[38;5;28;43mself\u001b[39;49m\u001b[38;5;241;43m.\u001b[39;49m\u001b[43moptions\u001b[49m\u001b[43m)\u001b[49m\n",
      "File \u001b[0;32m/opt/conda/envs/python3/lib/python3.9/site-packages/pandas/io/parsers.py:1867\u001b[0m, in \u001b[0;36mCParserWrapper.__init__\u001b[0;34m(self, src, **kwds)\u001b[0m\n\u001b[1;32m   1864\u001b[0m kwds[\u001b[38;5;124m\"\u001b[39m\u001b[38;5;124musecols\u001b[39m\u001b[38;5;124m\"\u001b[39m] \u001b[38;5;241m=\u001b[39m \u001b[38;5;28mself\u001b[39m\u001b[38;5;241m.\u001b[39musecols\n\u001b[1;32m   1866\u001b[0m \u001b[38;5;66;03m# open handles\u001b[39;00m\n\u001b[0;32m-> 1867\u001b[0m \u001b[38;5;28;43mself\u001b[39;49m\u001b[38;5;241;43m.\u001b[39;49m\u001b[43m_open_handles\u001b[49m\u001b[43m(\u001b[49m\u001b[43msrc\u001b[49m\u001b[43m,\u001b[49m\u001b[43m \u001b[49m\u001b[43mkwds\u001b[49m\u001b[43m)\u001b[49m\n\u001b[1;32m   1868\u001b[0m \u001b[38;5;28;01massert\u001b[39;00m \u001b[38;5;28mself\u001b[39m\u001b[38;5;241m.\u001b[39mhandles \u001b[38;5;129;01mis\u001b[39;00m \u001b[38;5;129;01mnot\u001b[39;00m \u001b[38;5;28;01mNone\u001b[39;00m\n\u001b[1;32m   1869\u001b[0m \u001b[38;5;28;01mfor\u001b[39;00m key \u001b[38;5;129;01min\u001b[39;00m (\u001b[38;5;124m\"\u001b[39m\u001b[38;5;124mstorage_options\u001b[39m\u001b[38;5;124m\"\u001b[39m, \u001b[38;5;124m\"\u001b[39m\u001b[38;5;124mencoding\u001b[39m\u001b[38;5;124m\"\u001b[39m, \u001b[38;5;124m\"\u001b[39m\u001b[38;5;124mmemory_map\u001b[39m\u001b[38;5;124m\"\u001b[39m, \u001b[38;5;124m\"\u001b[39m\u001b[38;5;124mcompression\u001b[39m\u001b[38;5;124m\"\u001b[39m):\n",
      "File \u001b[0;32m/opt/conda/envs/python3/lib/python3.9/site-packages/pandas/io/parsers.py:1362\u001b[0m, in \u001b[0;36mParserBase._open_handles\u001b[0;34m(self, src, kwds)\u001b[0m\n\u001b[1;32m   1358\u001b[0m \u001b[38;5;28;01mdef\u001b[39;00m \u001b[38;5;21m_open_handles\u001b[39m(\u001b[38;5;28mself\u001b[39m, src: FilePathOrBuffer, kwds: Dict[\u001b[38;5;28mstr\u001b[39m, Any]) \u001b[38;5;241m-\u001b[39m\u001b[38;5;241m>\u001b[39m \u001b[38;5;28;01mNone\u001b[39;00m:\n\u001b[1;32m   1359\u001b[0m \u001b[38;5;250m    \u001b[39m\u001b[38;5;124;03m\"\"\"\u001b[39;00m\n\u001b[1;32m   1360\u001b[0m \u001b[38;5;124;03m    Let the readers open IOHanldes after they are done with their potential raises.\u001b[39;00m\n\u001b[1;32m   1361\u001b[0m \u001b[38;5;124;03m    \"\"\"\u001b[39;00m\n\u001b[0;32m-> 1362\u001b[0m     \u001b[38;5;28mself\u001b[39m\u001b[38;5;241m.\u001b[39mhandles \u001b[38;5;241m=\u001b[39m \u001b[43mget_handle\u001b[49m\u001b[43m(\u001b[49m\n\u001b[1;32m   1363\u001b[0m \u001b[43m        \u001b[49m\u001b[43msrc\u001b[49m\u001b[43m,\u001b[49m\n\u001b[1;32m   1364\u001b[0m \u001b[43m        \u001b[49m\u001b[38;5;124;43m\"\u001b[39;49m\u001b[38;5;124;43mr\u001b[39;49m\u001b[38;5;124;43m\"\u001b[39;49m\u001b[43m,\u001b[49m\n\u001b[1;32m   1365\u001b[0m \u001b[43m        \u001b[49m\u001b[43mencoding\u001b[49m\u001b[38;5;241;43m=\u001b[39;49m\u001b[43mkwds\u001b[49m\u001b[38;5;241;43m.\u001b[39;49m\u001b[43mget\u001b[49m\u001b[43m(\u001b[49m\u001b[38;5;124;43m\"\u001b[39;49m\u001b[38;5;124;43mencoding\u001b[39;49m\u001b[38;5;124;43m\"\u001b[39;49m\u001b[43m,\u001b[49m\u001b[43m \u001b[49m\u001b[38;5;28;43;01mNone\u001b[39;49;00m\u001b[43m)\u001b[49m\u001b[43m,\u001b[49m\n\u001b[1;32m   1366\u001b[0m \u001b[43m        \u001b[49m\u001b[43mcompression\u001b[49m\u001b[38;5;241;43m=\u001b[39;49m\u001b[43mkwds\u001b[49m\u001b[38;5;241;43m.\u001b[39;49m\u001b[43mget\u001b[49m\u001b[43m(\u001b[49m\u001b[38;5;124;43m\"\u001b[39;49m\u001b[38;5;124;43mcompression\u001b[39;49m\u001b[38;5;124;43m\"\u001b[39;49m\u001b[43m,\u001b[49m\u001b[43m \u001b[49m\u001b[38;5;28;43;01mNone\u001b[39;49;00m\u001b[43m)\u001b[49m\u001b[43m,\u001b[49m\n\u001b[1;32m   1367\u001b[0m \u001b[43m        \u001b[49m\u001b[43mmemory_map\u001b[49m\u001b[38;5;241;43m=\u001b[39;49m\u001b[43mkwds\u001b[49m\u001b[38;5;241;43m.\u001b[39;49m\u001b[43mget\u001b[49m\u001b[43m(\u001b[49m\u001b[38;5;124;43m\"\u001b[39;49m\u001b[38;5;124;43mmemory_map\u001b[39;49m\u001b[38;5;124;43m\"\u001b[39;49m\u001b[43m,\u001b[49m\u001b[43m \u001b[49m\u001b[38;5;28;43;01mFalse\u001b[39;49;00m\u001b[43m)\u001b[49m\u001b[43m,\u001b[49m\n\u001b[1;32m   1368\u001b[0m \u001b[43m        \u001b[49m\u001b[43mstorage_options\u001b[49m\u001b[38;5;241;43m=\u001b[39;49m\u001b[43mkwds\u001b[49m\u001b[38;5;241;43m.\u001b[39;49m\u001b[43mget\u001b[49m\u001b[43m(\u001b[49m\u001b[38;5;124;43m\"\u001b[39;49m\u001b[38;5;124;43mstorage_options\u001b[39;49m\u001b[38;5;124;43m\"\u001b[39;49m\u001b[43m,\u001b[49m\u001b[43m \u001b[49m\u001b[38;5;28;43;01mNone\u001b[39;49;00m\u001b[43m)\u001b[49m\u001b[43m,\u001b[49m\n\u001b[1;32m   1369\u001b[0m \u001b[43m    \u001b[49m\u001b[43m)\u001b[49m\n",
      "File \u001b[0;32m/opt/conda/envs/python3/lib/python3.9/site-packages/pandas/io/common.py:642\u001b[0m, in \u001b[0;36mget_handle\u001b[0;34m(path_or_buf, mode, encoding, compression, memory_map, is_text, errors, storage_options)\u001b[0m\n\u001b[1;32m    640\u001b[0m         errors \u001b[38;5;241m=\u001b[39m \u001b[38;5;124m\"\u001b[39m\u001b[38;5;124mreplace\u001b[39m\u001b[38;5;124m\"\u001b[39m\n\u001b[1;32m    641\u001b[0m     \u001b[38;5;66;03m# Encoding\u001b[39;00m\n\u001b[0;32m--> 642\u001b[0m     handle \u001b[38;5;241m=\u001b[39m \u001b[38;5;28;43mopen\u001b[39;49m\u001b[43m(\u001b[49m\n\u001b[1;32m    643\u001b[0m \u001b[43m        \u001b[49m\u001b[43mhandle\u001b[49m\u001b[43m,\u001b[49m\n\u001b[1;32m    644\u001b[0m \u001b[43m        \u001b[49m\u001b[43mioargs\u001b[49m\u001b[38;5;241;43m.\u001b[39;49m\u001b[43mmode\u001b[49m\u001b[43m,\u001b[49m\n\u001b[1;32m    645\u001b[0m \u001b[43m        \u001b[49m\u001b[43mencoding\u001b[49m\u001b[38;5;241;43m=\u001b[39;49m\u001b[43mioargs\u001b[49m\u001b[38;5;241;43m.\u001b[39;49m\u001b[43mencoding\u001b[49m\u001b[43m,\u001b[49m\n\u001b[1;32m    646\u001b[0m \u001b[43m        \u001b[49m\u001b[43merrors\u001b[49m\u001b[38;5;241;43m=\u001b[39;49m\u001b[43merrors\u001b[49m\u001b[43m,\u001b[49m\n\u001b[1;32m    647\u001b[0m \u001b[43m        \u001b[49m\u001b[43mnewline\u001b[49m\u001b[38;5;241;43m=\u001b[39;49m\u001b[38;5;124;43m\"\u001b[39;49m\u001b[38;5;124;43m\"\u001b[39;49m\u001b[43m,\u001b[49m\n\u001b[1;32m    648\u001b[0m \u001b[43m    \u001b[49m\u001b[43m)\u001b[49m\n\u001b[1;32m    649\u001b[0m \u001b[38;5;28;01melse\u001b[39;00m:\n\u001b[1;32m    650\u001b[0m     \u001b[38;5;66;03m# Binary mode\u001b[39;00m\n\u001b[1;32m    651\u001b[0m     handle \u001b[38;5;241m=\u001b[39m \u001b[38;5;28mopen\u001b[39m(handle, ioargs\u001b[38;5;241m.\u001b[39mmode)\n",
      "\u001b[0;31mFileNotFoundError\u001b[0m: [Errno 2] No such file or directory: 'hypotheses_us.csv'"
     ]
    }
   ],
   "source": [
    "hypotheses = pd.read_csv('hypotheses_us.csv', sep=';')\n",
    "hypotheses.rename(columns={'Hypothesis':'hypothesis'}, inplace='True')\n",
    "hypotheses.rename(columns={'Reach':'reach'}, inplace='True')\n",
    "hypotheses.rename(columns={'Impact':'impact'}, inplace='True')\n",
    "hypotheses.rename(columns={'Confidence':'confidence'}, inplace='True')\n",
    "hypotheses.rename(columns={'Effort':'effort'}, inplace='True')\n",
    "\n",
    "hypotheses"
   ]
  },
  {
   "cell_type": "markdown",
   "metadata": {},
   "source": [
    "<div class=\"alert alert-block alert-danger\">\n",
    "\n",
    "<b>Comentário: </b> <a class=\"tocSkip\"></a>\n",
    "\n",
    "Adaptei o endereço do arquivo para leitura no ambiente da Tripleten.\n",
    "</div>"
   ]
  },
  {
   "cell_type": "code",
   "execution_count": 3,
   "metadata": {},
   "outputs": [
    {
     "data": {
      "text/html": [
       "<div>\n",
       "<style scoped>\n",
       "    .dataframe tbody tr th:only-of-type {\n",
       "        vertical-align: middle;\n",
       "    }\n",
       "\n",
       "    .dataframe tbody tr th {\n",
       "        vertical-align: top;\n",
       "    }\n",
       "\n",
       "    .dataframe thead th {\n",
       "        text-align: right;\n",
       "    }\n",
       "</style>\n",
       "<table border=\"1\" class=\"dataframe\">\n",
       "  <thead>\n",
       "    <tr style=\"text-align: right;\">\n",
       "      <th></th>\n",
       "      <th>hypothesis</th>\n",
       "      <th>reach</th>\n",
       "      <th>impact</th>\n",
       "      <th>confidence</th>\n",
       "      <th>effort</th>\n",
       "    </tr>\n",
       "  </thead>\n",
       "  <tbody>\n",
       "    <tr>\n",
       "      <th>0</th>\n",
       "      <td>Add two new channels for attracting traffic. T...</td>\n",
       "      <td>3</td>\n",
       "      <td>10</td>\n",
       "      <td>8</td>\n",
       "      <td>6</td>\n",
       "    </tr>\n",
       "    <tr>\n",
       "      <th>1</th>\n",
       "      <td>Launch your own delivery service. This will sh...</td>\n",
       "      <td>2</td>\n",
       "      <td>5</td>\n",
       "      <td>4</td>\n",
       "      <td>10</td>\n",
       "    </tr>\n",
       "    <tr>\n",
       "      <th>2</th>\n",
       "      <td>Add product recommendation blocks to the store...</td>\n",
       "      <td>8</td>\n",
       "      <td>3</td>\n",
       "      <td>7</td>\n",
       "      <td>3</td>\n",
       "    </tr>\n",
       "    <tr>\n",
       "      <th>3</th>\n",
       "      <td>Change the category structure. This will incre...</td>\n",
       "      <td>8</td>\n",
       "      <td>3</td>\n",
       "      <td>3</td>\n",
       "      <td>8</td>\n",
       "    </tr>\n",
       "    <tr>\n",
       "      <th>4</th>\n",
       "      <td>Change the background color on the main page. ...</td>\n",
       "      <td>3</td>\n",
       "      <td>1</td>\n",
       "      <td>1</td>\n",
       "      <td>1</td>\n",
       "    </tr>\n",
       "    <tr>\n",
       "      <th>5</th>\n",
       "      <td>Add a customer review page. This will increase...</td>\n",
       "      <td>3</td>\n",
       "      <td>2</td>\n",
       "      <td>2</td>\n",
       "      <td>3</td>\n",
       "    </tr>\n",
       "    <tr>\n",
       "      <th>6</th>\n",
       "      <td>Show banners with current offers and sales on ...</td>\n",
       "      <td>5</td>\n",
       "      <td>3</td>\n",
       "      <td>8</td>\n",
       "      <td>3</td>\n",
       "    </tr>\n",
       "    <tr>\n",
       "      <th>7</th>\n",
       "      <td>Add a subscription form to all the main pages....</td>\n",
       "      <td>10</td>\n",
       "      <td>7</td>\n",
       "      <td>8</td>\n",
       "      <td>5</td>\n",
       "    </tr>\n",
       "    <tr>\n",
       "      <th>8</th>\n",
       "      <td>Launch a promotion that gives users discounts ...</td>\n",
       "      <td>1</td>\n",
       "      <td>9</td>\n",
       "      <td>9</td>\n",
       "      <td>5</td>\n",
       "    </tr>\n",
       "  </tbody>\n",
       "</table>\n",
       "</div>"
      ],
      "text/plain": [
       "                                          hypothesis  reach  impact  \\\n",
       "0  Add two new channels for attracting traffic. T...      3      10   \n",
       "1  Launch your own delivery service. This will sh...      2       5   \n",
       "2  Add product recommendation blocks to the store...      8       3   \n",
       "3  Change the category structure. This will incre...      8       3   \n",
       "4  Change the background color on the main page. ...      3       1   \n",
       "5  Add a customer review page. This will increase...      3       2   \n",
       "6  Show banners with current offers and sales on ...      5       3   \n",
       "7  Add a subscription form to all the main pages....     10       7   \n",
       "8  Launch a promotion that gives users discounts ...      1       9   \n",
       "\n",
       "   confidence  effort  \n",
       "0           8       6  \n",
       "1           4      10  \n",
       "2           7       3  \n",
       "3           3       8  \n",
       "4           1       1  \n",
       "5           2       3  \n",
       "6           8       3  \n",
       "7           8       5  \n",
       "8           9       5  "
      ]
     },
     "execution_count": 3,
     "metadata": {},
     "output_type": "execute_result"
    }
   ],
   "source": [
    "# Criação de DFs e separação das colunas\n",
    "hypotheses= pd.read_csv('/datasets/hypotheses_us.csv', delimiter=';')\n",
    "hypotheses.rename(columns={'Hypothesis':'hypothesis'}, inplace='True')\n",
    "hypotheses.rename(columns={'Reach':'reach'}, inplace='True')\n",
    "hypotheses.rename(columns={'Impact':'impact'}, inplace='True')\n",
    "hypotheses.rename(columns={'Confidence':'confidence'}, inplace='True')\n",
    "hypotheses.rename(columns={'Effort':'effort'}, inplace='True')\n",
    "\n",
    "hypotheses"
   ]
  },
  {
   "cell_type": "code",
   "execution_count": 4,
   "metadata": {},
   "outputs": [
    {
     "data": {
      "text/html": [
       "<div>\n",
       "<style scoped>\n",
       "    .dataframe tbody tr th:only-of-type {\n",
       "        vertical-align: middle;\n",
       "    }\n",
       "\n",
       "    .dataframe tbody tr th {\n",
       "        vertical-align: top;\n",
       "    }\n",
       "\n",
       "    .dataframe thead th {\n",
       "        text-align: right;\n",
       "    }\n",
       "</style>\n",
       "<table border=\"1\" class=\"dataframe\">\n",
       "  <thead>\n",
       "    <tr style=\"text-align: right;\">\n",
       "      <th></th>\n",
       "      <th>orderId</th>\n",
       "      <th>userId</th>\n",
       "      <th>date</th>\n",
       "      <th>revenue</th>\n",
       "      <th>group</th>\n",
       "    </tr>\n",
       "  </thead>\n",
       "  <tbody>\n",
       "    <tr>\n",
       "      <th>0</th>\n",
       "      <td>3667963787</td>\n",
       "      <td>3312258926</td>\n",
       "      <td>2019-08-15</td>\n",
       "      <td>30.4</td>\n",
       "      <td>B</td>\n",
       "    </tr>\n",
       "    <tr>\n",
       "      <th>1</th>\n",
       "      <td>2804400009</td>\n",
       "      <td>3642806036</td>\n",
       "      <td>2019-08-15</td>\n",
       "      <td>15.2</td>\n",
       "      <td>B</td>\n",
       "    </tr>\n",
       "    <tr>\n",
       "      <th>2</th>\n",
       "      <td>2961555356</td>\n",
       "      <td>4069496402</td>\n",
       "      <td>2019-08-15</td>\n",
       "      <td>10.2</td>\n",
       "      <td>A</td>\n",
       "    </tr>\n",
       "    <tr>\n",
       "      <th>3</th>\n",
       "      <td>3797467345</td>\n",
       "      <td>1196621759</td>\n",
       "      <td>2019-08-15</td>\n",
       "      <td>155.1</td>\n",
       "      <td>B</td>\n",
       "    </tr>\n",
       "    <tr>\n",
       "      <th>4</th>\n",
       "      <td>2282983706</td>\n",
       "      <td>2322279887</td>\n",
       "      <td>2019-08-15</td>\n",
       "      <td>40.5</td>\n",
       "      <td>B</td>\n",
       "    </tr>\n",
       "    <tr>\n",
       "      <th>5</th>\n",
       "      <td>182168103</td>\n",
       "      <td>935554773</td>\n",
       "      <td>2019-08-15</td>\n",
       "      <td>35.0</td>\n",
       "      <td>B</td>\n",
       "    </tr>\n",
       "    <tr>\n",
       "      <th>6</th>\n",
       "      <td>398296753</td>\n",
       "      <td>2900797465</td>\n",
       "      <td>2019-08-15</td>\n",
       "      <td>30.6</td>\n",
       "      <td>B</td>\n",
       "    </tr>\n",
       "    <tr>\n",
       "      <th>7</th>\n",
       "      <td>2626614568</td>\n",
       "      <td>78758296</td>\n",
       "      <td>2019-08-15</td>\n",
       "      <td>20.1</td>\n",
       "      <td>A</td>\n",
       "    </tr>\n",
       "    <tr>\n",
       "      <th>8</th>\n",
       "      <td>1576988021</td>\n",
       "      <td>295230930</td>\n",
       "      <td>2019-08-15</td>\n",
       "      <td>215.9</td>\n",
       "      <td>A</td>\n",
       "    </tr>\n",
       "    <tr>\n",
       "      <th>9</th>\n",
       "      <td>1506739906</td>\n",
       "      <td>1882260405</td>\n",
       "      <td>2019-08-15</td>\n",
       "      <td>30.5</td>\n",
       "      <td>B</td>\n",
       "    </tr>\n",
       "  </tbody>\n",
       "</table>\n",
       "</div>"
      ],
      "text/plain": [
       "      orderId      userId        date  revenue group\n",
       "0  3667963787  3312258926  2019-08-15     30.4     B\n",
       "1  2804400009  3642806036  2019-08-15     15.2     B\n",
       "2  2961555356  4069496402  2019-08-15     10.2     A\n",
       "3  3797467345  1196621759  2019-08-15    155.1     B\n",
       "4  2282983706  2322279887  2019-08-15     40.5     B\n",
       "5   182168103   935554773  2019-08-15     35.0     B\n",
       "6   398296753  2900797465  2019-08-15     30.6     B\n",
       "7  2626614568    78758296  2019-08-15     20.1     A\n",
       "8  1576988021   295230930  2019-08-15    215.9     A\n",
       "9  1506739906  1882260405  2019-08-15     30.5     B"
      ]
     },
     "execution_count": 4,
     "metadata": {},
     "output_type": "execute_result"
    }
   ],
   "source": [
    "#orders = pd.read_csv('orders_us.csv')\n",
    "\n",
    "orders = pd.read_csv('/datasets/orders_us.csv')\n",
    "\n",
    "orders.rename(columns={'transactionId':'orderId'}, inplace='True')\n",
    "orders.rename(columns={'visitorId':'userId'}, inplace='True')\n",
    "\n",
    "orders.head(10)"
   ]
  },
  {
   "cell_type": "code",
   "execution_count": 5,
   "metadata": {},
   "outputs": [
    {
     "data": {
      "text/html": [
       "<div>\n",
       "<style scoped>\n",
       "    .dataframe tbody tr th:only-of-type {\n",
       "        vertical-align: middle;\n",
       "    }\n",
       "\n",
       "    .dataframe tbody tr th {\n",
       "        vertical-align: top;\n",
       "    }\n",
       "\n",
       "    .dataframe thead th {\n",
       "        text-align: right;\n",
       "    }\n",
       "</style>\n",
       "<table border=\"1\" class=\"dataframe\">\n",
       "  <thead>\n",
       "    <tr style=\"text-align: right;\">\n",
       "      <th></th>\n",
       "      <th>date</th>\n",
       "      <th>group</th>\n",
       "      <th>visitors</th>\n",
       "    </tr>\n",
       "  </thead>\n",
       "  <tbody>\n",
       "    <tr>\n",
       "      <th>0</th>\n",
       "      <td>2019-08-01</td>\n",
       "      <td>A</td>\n",
       "      <td>719</td>\n",
       "    </tr>\n",
       "    <tr>\n",
       "      <th>1</th>\n",
       "      <td>2019-08-02</td>\n",
       "      <td>A</td>\n",
       "      <td>619</td>\n",
       "    </tr>\n",
       "    <tr>\n",
       "      <th>2</th>\n",
       "      <td>2019-08-03</td>\n",
       "      <td>A</td>\n",
       "      <td>507</td>\n",
       "    </tr>\n",
       "    <tr>\n",
       "      <th>3</th>\n",
       "      <td>2019-08-04</td>\n",
       "      <td>A</td>\n",
       "      <td>717</td>\n",
       "    </tr>\n",
       "    <tr>\n",
       "      <th>4</th>\n",
       "      <td>2019-08-05</td>\n",
       "      <td>A</td>\n",
       "      <td>756</td>\n",
       "    </tr>\n",
       "    <tr>\n",
       "      <th>...</th>\n",
       "      <td>...</td>\n",
       "      <td>...</td>\n",
       "      <td>...</td>\n",
       "    </tr>\n",
       "    <tr>\n",
       "      <th>57</th>\n",
       "      <td>2019-08-27</td>\n",
       "      <td>B</td>\n",
       "      <td>720</td>\n",
       "    </tr>\n",
       "    <tr>\n",
       "      <th>58</th>\n",
       "      <td>2019-08-28</td>\n",
       "      <td>B</td>\n",
       "      <td>654</td>\n",
       "    </tr>\n",
       "    <tr>\n",
       "      <th>59</th>\n",
       "      <td>2019-08-29</td>\n",
       "      <td>B</td>\n",
       "      <td>531</td>\n",
       "    </tr>\n",
       "    <tr>\n",
       "      <th>60</th>\n",
       "      <td>2019-08-30</td>\n",
       "      <td>B</td>\n",
       "      <td>490</td>\n",
       "    </tr>\n",
       "    <tr>\n",
       "      <th>61</th>\n",
       "      <td>2019-08-31</td>\n",
       "      <td>B</td>\n",
       "      <td>718</td>\n",
       "    </tr>\n",
       "  </tbody>\n",
       "</table>\n",
       "<p>62 rows × 3 columns</p>\n",
       "</div>"
      ],
      "text/plain": [
       "          date group  visitors\n",
       "0   2019-08-01     A       719\n",
       "1   2019-08-02     A       619\n",
       "2   2019-08-03     A       507\n",
       "3   2019-08-04     A       717\n",
       "4   2019-08-05     A       756\n",
       "..         ...   ...       ...\n",
       "57  2019-08-27     B       720\n",
       "58  2019-08-28     B       654\n",
       "59  2019-08-29     B       531\n",
       "60  2019-08-30     B       490\n",
       "61  2019-08-31     B       718\n",
       "\n",
       "[62 rows x 3 columns]"
      ]
     },
     "execution_count": 5,
     "metadata": {},
     "output_type": "execute_result"
    }
   ],
   "source": [
    "#visitors = pd.read_csv('visits_us.csv')\n",
    "\n",
    "visitors = pd.read_csv('/datasets/visits_us.csv')\n",
    "visitors.rename(columns={'visits':'visitors'}, inplace='True')\n",
    "visitors"
   ]
  },
  {
   "cell_type": "markdown",
   "metadata": {},
   "source": [
    "<div class=\"alert alert-block alert-info\">\n",
    "<b>Aplicação do framework ICE para priorizar hipóteses</b> <a class=\"tocSkip\"></a>\n",
    "</div>"
   ]
  },
  {
   "cell_type": "code",
   "execution_count": 6,
   "metadata": {},
   "outputs": [
    {
     "data": {
      "text/html": [
       "<div>\n",
       "<style scoped>\n",
       "    .dataframe tbody tr th:only-of-type {\n",
       "        vertical-align: middle;\n",
       "    }\n",
       "\n",
       "    .dataframe tbody tr th {\n",
       "        vertical-align: top;\n",
       "    }\n",
       "\n",
       "    .dataframe thead th {\n",
       "        text-align: right;\n",
       "    }\n",
       "</style>\n",
       "<table border=\"1\" class=\"dataframe\">\n",
       "  <thead>\n",
       "    <tr style=\"text-align: right;\">\n",
       "      <th></th>\n",
       "      <th>hypothesis</th>\n",
       "      <th>ICE</th>\n",
       "    </tr>\n",
       "  </thead>\n",
       "  <tbody>\n",
       "    <tr>\n",
       "      <th>8</th>\n",
       "      <td>Launch a promotion that gives users discounts ...</td>\n",
       "      <td>16.200000</td>\n",
       "    </tr>\n",
       "    <tr>\n",
       "      <th>0</th>\n",
       "      <td>Add two new channels for attracting traffic. T...</td>\n",
       "      <td>13.333333</td>\n",
       "    </tr>\n",
       "    <tr>\n",
       "      <th>7</th>\n",
       "      <td>Add a subscription form to all the main pages....</td>\n",
       "      <td>11.200000</td>\n",
       "    </tr>\n",
       "    <tr>\n",
       "      <th>6</th>\n",
       "      <td>Show banners with current offers and sales on ...</td>\n",
       "      <td>8.000000</td>\n",
       "    </tr>\n",
       "    <tr>\n",
       "      <th>2</th>\n",
       "      <td>Add product recommendation blocks to the store...</td>\n",
       "      <td>7.000000</td>\n",
       "    </tr>\n",
       "    <tr>\n",
       "      <th>1</th>\n",
       "      <td>Launch your own delivery service. This will sh...</td>\n",
       "      <td>2.000000</td>\n",
       "    </tr>\n",
       "    <tr>\n",
       "      <th>5</th>\n",
       "      <td>Add a customer review page. This will increase...</td>\n",
       "      <td>1.333333</td>\n",
       "    </tr>\n",
       "    <tr>\n",
       "      <th>3</th>\n",
       "      <td>Change the category structure. This will incre...</td>\n",
       "      <td>1.125000</td>\n",
       "    </tr>\n",
       "    <tr>\n",
       "      <th>4</th>\n",
       "      <td>Change the background color on the main page. ...</td>\n",
       "      <td>1.000000</td>\n",
       "    </tr>\n",
       "  </tbody>\n",
       "</table>\n",
       "</div>"
      ],
      "text/plain": [
       "                                          hypothesis        ICE\n",
       "8  Launch a promotion that gives users discounts ...  16.200000\n",
       "0  Add two new channels for attracting traffic. T...  13.333333\n",
       "7  Add a subscription form to all the main pages....  11.200000\n",
       "6  Show banners with current offers and sales on ...   8.000000\n",
       "2  Add product recommendation blocks to the store...   7.000000\n",
       "1  Launch your own delivery service. This will sh...   2.000000\n",
       "5  Add a customer review page. This will increase...   1.333333\n",
       "3  Change the category structure. This will incre...   1.125000\n",
       "4  Change the background color on the main page. ...   1.000000"
      ]
     },
     "execution_count": 6,
     "metadata": {},
     "output_type": "execute_result"
    }
   ],
   "source": [
    "hypotheses['ICE'] = (hypotheses['impact']*hypotheses['confidence'])/hypotheses['effort']\n",
    "\n",
    "hypotheses[['hypothesis','ICE']].sort_values(by='ICE', ascending=False)"
   ]
  },
  {
   "cell_type": "markdown",
   "metadata": {},
   "source": [
    "<div class=\"alert alert-block alert-info\">\n",
    "<b>Aplicação do framework RICE para priorizar hipóteses</b> <a class=\"tocSkip\"></a>\n",
    "</div>"
   ]
  },
  {
   "cell_type": "code",
   "execution_count": 7,
   "metadata": {},
   "outputs": [
    {
     "data": {
      "text/html": [
       "<div>\n",
       "<style scoped>\n",
       "    .dataframe tbody tr th:only-of-type {\n",
       "        vertical-align: middle;\n",
       "    }\n",
       "\n",
       "    .dataframe tbody tr th {\n",
       "        vertical-align: top;\n",
       "    }\n",
       "\n",
       "    .dataframe thead th {\n",
       "        text-align: right;\n",
       "    }\n",
       "</style>\n",
       "<table border=\"1\" class=\"dataframe\">\n",
       "  <thead>\n",
       "    <tr style=\"text-align: right;\">\n",
       "      <th></th>\n",
       "      <th>hypothesis</th>\n",
       "      <th>RICE</th>\n",
       "    </tr>\n",
       "  </thead>\n",
       "  <tbody>\n",
       "    <tr>\n",
       "      <th>7</th>\n",
       "      <td>Add a subscription form to all the main pages....</td>\n",
       "      <td>112.0</td>\n",
       "    </tr>\n",
       "    <tr>\n",
       "      <th>2</th>\n",
       "      <td>Add product recommendation blocks to the store...</td>\n",
       "      <td>56.0</td>\n",
       "    </tr>\n",
       "    <tr>\n",
       "      <th>0</th>\n",
       "      <td>Add two new channels for attracting traffic. T...</td>\n",
       "      <td>40.0</td>\n",
       "    </tr>\n",
       "    <tr>\n",
       "      <th>6</th>\n",
       "      <td>Show banners with current offers and sales on ...</td>\n",
       "      <td>40.0</td>\n",
       "    </tr>\n",
       "    <tr>\n",
       "      <th>8</th>\n",
       "      <td>Launch a promotion that gives users discounts ...</td>\n",
       "      <td>16.2</td>\n",
       "    </tr>\n",
       "    <tr>\n",
       "      <th>3</th>\n",
       "      <td>Change the category structure. This will incre...</td>\n",
       "      <td>9.0</td>\n",
       "    </tr>\n",
       "    <tr>\n",
       "      <th>1</th>\n",
       "      <td>Launch your own delivery service. This will sh...</td>\n",
       "      <td>4.0</td>\n",
       "    </tr>\n",
       "    <tr>\n",
       "      <th>5</th>\n",
       "      <td>Add a customer review page. This will increase...</td>\n",
       "      <td>4.0</td>\n",
       "    </tr>\n",
       "    <tr>\n",
       "      <th>4</th>\n",
       "      <td>Change the background color on the main page. ...</td>\n",
       "      <td>3.0</td>\n",
       "    </tr>\n",
       "  </tbody>\n",
       "</table>\n",
       "</div>"
      ],
      "text/plain": [
       "                                          hypothesis   RICE\n",
       "7  Add a subscription form to all the main pages....  112.0\n",
       "2  Add product recommendation blocks to the store...   56.0\n",
       "0  Add two new channels for attracting traffic. T...   40.0\n",
       "6  Show banners with current offers and sales on ...   40.0\n",
       "8  Launch a promotion that gives users discounts ...   16.2\n",
       "3  Change the category structure. This will incre...    9.0\n",
       "1  Launch your own delivery service. This will sh...    4.0\n",
       "5  Add a customer review page. This will increase...    4.0\n",
       "4  Change the background color on the main page. ...    3.0"
      ]
     },
     "execution_count": 7,
     "metadata": {},
     "output_type": "execute_result"
    }
   ],
   "source": [
    "hypotheses['RICE'] = (hypotheses['reach']*hypotheses['impact']*hypotheses['confidence'])/hypotheses['effort']\n",
    "\n",
    "hypotheses[['hypothesis','RICE']].sort_values(by='RICE', ascending=False)"
   ]
  },
  {
   "cell_type": "code",
   "execution_count": 8,
   "metadata": {},
   "outputs": [
    {
     "data": {
      "text/html": [
       "<div>\n",
       "<style scoped>\n",
       "    .dataframe tbody tr th:only-of-type {\n",
       "        vertical-align: middle;\n",
       "    }\n",
       "\n",
       "    .dataframe tbody tr th {\n",
       "        vertical-align: top;\n",
       "    }\n",
       "\n",
       "    .dataframe thead th {\n",
       "        text-align: right;\n",
       "    }\n",
       "</style>\n",
       "<table border=\"1\" class=\"dataframe\">\n",
       "  <thead>\n",
       "    <tr style=\"text-align: right;\">\n",
       "      <th></th>\n",
       "      <th>RICE</th>\n",
       "      <th>ICE</th>\n",
       "    </tr>\n",
       "  </thead>\n",
       "  <tbody>\n",
       "    <tr>\n",
       "      <th>count</th>\n",
       "      <td>9.0</td>\n",
       "      <td>9.0</td>\n",
       "    </tr>\n",
       "    <tr>\n",
       "      <th>mean</th>\n",
       "      <td>32.0</td>\n",
       "      <td>7.0</td>\n",
       "    </tr>\n",
       "    <tr>\n",
       "      <th>std</th>\n",
       "      <td>36.0</td>\n",
       "      <td>6.0</td>\n",
       "    </tr>\n",
       "    <tr>\n",
       "      <th>min</th>\n",
       "      <td>3.0</td>\n",
       "      <td>1.0</td>\n",
       "    </tr>\n",
       "    <tr>\n",
       "      <th>25%</th>\n",
       "      <td>4.0</td>\n",
       "      <td>1.0</td>\n",
       "    </tr>\n",
       "    <tr>\n",
       "      <th>50%</th>\n",
       "      <td>16.0</td>\n",
       "      <td>7.0</td>\n",
       "    </tr>\n",
       "    <tr>\n",
       "      <th>75%</th>\n",
       "      <td>40.0</td>\n",
       "      <td>11.0</td>\n",
       "    </tr>\n",
       "    <tr>\n",
       "      <th>max</th>\n",
       "      <td>112.0</td>\n",
       "      <td>16.0</td>\n",
       "    </tr>\n",
       "  </tbody>\n",
       "</table>\n",
       "</div>"
      ],
      "text/plain": [
       "        RICE   ICE\n",
       "count    9.0   9.0\n",
       "mean    32.0   7.0\n",
       "std     36.0   6.0\n",
       "min      3.0   1.0\n",
       "25%      4.0   1.0\n",
       "50%     16.0   7.0\n",
       "75%     40.0  11.0\n",
       "max    112.0  16.0"
      ]
     },
     "execution_count": 8,
     "metadata": {},
     "output_type": "execute_result"
    }
   ],
   "source": [
    "hypotheses[['RICE','ICE']].describe().round()"
   ]
  },
  {
   "cell_type": "markdown",
   "metadata": {},
   "source": [
    "o RICE é mais abrangente e equilibrado, enquanto o ICE é mais simplificado e pode favorecer hipóteses de alto impacto, mas com menor alcance ."
   ]
  },
  {
   "cell_type": "markdown",
   "metadata": {},
   "source": [
    "<div class=\"alert alert-block alert-info\">\n",
    "<b>Análise de teste A/B\n",
    "</b> <a class=\"tocSkip\"></a>\n",
    "</div>"
   ]
  },
  {
   "cell_type": "code",
   "execution_count": 9,
   "metadata": {},
   "outputs": [
    {
     "data": {
      "text/html": [
       "<div>\n",
       "<style scoped>\n",
       "    .dataframe tbody tr th:only-of-type {\n",
       "        vertical-align: middle;\n",
       "    }\n",
       "\n",
       "    .dataframe tbody tr th {\n",
       "        vertical-align: top;\n",
       "    }\n",
       "\n",
       "    .dataframe thead th {\n",
       "        text-align: right;\n",
       "    }\n",
       "</style>\n",
       "<table border=\"1\" class=\"dataframe\">\n",
       "  <thead>\n",
       "    <tr style=\"text-align: right;\">\n",
       "      <th></th>\n",
       "      <th>orderId</th>\n",
       "      <th>userId</th>\n",
       "      <th>date</th>\n",
       "      <th>revenue</th>\n",
       "      <th>group</th>\n",
       "    </tr>\n",
       "  </thead>\n",
       "  <tbody>\n",
       "    <tr>\n",
       "      <th>0</th>\n",
       "      <td>3667963787</td>\n",
       "      <td>3312258926</td>\n",
       "      <td>2019-08-15</td>\n",
       "      <td>30.4</td>\n",
       "      <td>B</td>\n",
       "    </tr>\n",
       "    <tr>\n",
       "      <th>1</th>\n",
       "      <td>2804400009</td>\n",
       "      <td>3642806036</td>\n",
       "      <td>2019-08-15</td>\n",
       "      <td>15.2</td>\n",
       "      <td>B</td>\n",
       "    </tr>\n",
       "    <tr>\n",
       "      <th>2</th>\n",
       "      <td>2961555356</td>\n",
       "      <td>4069496402</td>\n",
       "      <td>2019-08-15</td>\n",
       "      <td>10.2</td>\n",
       "      <td>A</td>\n",
       "    </tr>\n",
       "    <tr>\n",
       "      <th>3</th>\n",
       "      <td>3797467345</td>\n",
       "      <td>1196621759</td>\n",
       "      <td>2019-08-15</td>\n",
       "      <td>155.1</td>\n",
       "      <td>B</td>\n",
       "    </tr>\n",
       "    <tr>\n",
       "      <th>4</th>\n",
       "      <td>2282983706</td>\n",
       "      <td>2322279887</td>\n",
       "      <td>2019-08-15</td>\n",
       "      <td>40.5</td>\n",
       "      <td>B</td>\n",
       "    </tr>\n",
       "    <tr>\n",
       "      <th>...</th>\n",
       "      <td>...</td>\n",
       "      <td>...</td>\n",
       "      <td>...</td>\n",
       "      <td>...</td>\n",
       "      <td>...</td>\n",
       "    </tr>\n",
       "    <tr>\n",
       "      <th>1192</th>\n",
       "      <td>2662137336</td>\n",
       "      <td>3733762160</td>\n",
       "      <td>2019-08-14</td>\n",
       "      <td>100.8</td>\n",
       "      <td>B</td>\n",
       "    </tr>\n",
       "    <tr>\n",
       "      <th>1193</th>\n",
       "      <td>2203539145</td>\n",
       "      <td>370388673</td>\n",
       "      <td>2019-08-14</td>\n",
       "      <td>50.1</td>\n",
       "      <td>A</td>\n",
       "    </tr>\n",
       "    <tr>\n",
       "      <th>1194</th>\n",
       "      <td>1807773912</td>\n",
       "      <td>573423106</td>\n",
       "      <td>2019-08-14</td>\n",
       "      <td>165.3</td>\n",
       "      <td>A</td>\n",
       "    </tr>\n",
       "    <tr>\n",
       "      <th>1195</th>\n",
       "      <td>1947021204</td>\n",
       "      <td>1614305549</td>\n",
       "      <td>2019-08-14</td>\n",
       "      <td>5.5</td>\n",
       "      <td>A</td>\n",
       "    </tr>\n",
       "    <tr>\n",
       "      <th>1196</th>\n",
       "      <td>3936777065</td>\n",
       "      <td>2108080724</td>\n",
       "      <td>2019-08-15</td>\n",
       "      <td>3120.1</td>\n",
       "      <td>B</td>\n",
       "    </tr>\n",
       "  </tbody>\n",
       "</table>\n",
       "<p>1197 rows × 5 columns</p>\n",
       "</div>"
      ],
      "text/plain": [
       "         orderId      userId        date  revenue group\n",
       "0     3667963787  3312258926  2019-08-15     30.4     B\n",
       "1     2804400009  3642806036  2019-08-15     15.2     B\n",
       "2     2961555356  4069496402  2019-08-15     10.2     A\n",
       "3     3797467345  1196621759  2019-08-15    155.1     B\n",
       "4     2282983706  2322279887  2019-08-15     40.5     B\n",
       "...          ...         ...         ...      ...   ...\n",
       "1192  2662137336  3733762160  2019-08-14    100.8     B\n",
       "1193  2203539145   370388673  2019-08-14     50.1     A\n",
       "1194  1807773912   573423106  2019-08-14    165.3     A\n",
       "1195  1947021204  1614305549  2019-08-14      5.5     A\n",
       "1196  3936777065  2108080724  2019-08-15   3120.1     B\n",
       "\n",
       "[1197 rows x 5 columns]"
      ]
     },
     "execution_count": 9,
     "metadata": {},
     "output_type": "execute_result"
    }
   ],
   "source": [
    "orders\n",
    "#visitors"
   ]
  },
  {
   "cell_type": "code",
   "execution_count": 10,
   "metadata": {},
   "outputs": [],
   "source": [
    "ordersByUsersA = orders[orders['group']=='A'].groupby('userId', as_index=False).agg({'orderId' : pd.Series.nunique})\n",
    "ordersByUsersA.columns = ['userId', 'orders']\n",
    "\n",
    "ordersByUsersB = orders[orders['group']=='B'].groupby('userId', as_index=False).agg({'orderId' : pd.Series.nunique})\n",
    "ordersByUsersB.columns = ['userId', 'orders']"
   ]
  },
  {
   "cell_type": "code",
   "execution_count": 11,
   "metadata": {},
   "outputs": [],
   "source": [
    "pd.Series(0, index=np.arange(visitors[visitors['group']=='A']['visitors'].sum() - len(ordersByUsersA['orders'])), name='orders')\n",
    "[ordersByUsersA['orders'],pd.Series(0, index=np.arange(visitors[visitors['group']=='A']['visitors'].sum() - len(ordersByUsersA['orders'])), name='orders')]\n",
    "sampleA = pd.concat([ordersByUsersA['orders'],pd.Series(0, index=np.arange(visitors[visitors['group']=='A']['visitors'].sum() - len(ordersByUsersA['orders'])), name='orders')],axis=0)\n",
    "\n",
    "sampleB = pd.concat([ordersByUsersB['orders'],pd.Series(0, index=np.arange(visitors[visitors['group']=='B']['visitors'].sum() - len(ordersByUsersB['orders'])), name='orders')],axis=0)\n",
    " "
   ]
  },
  {
   "cell_type": "code",
   "execution_count": 12,
   "metadata": {},
   "outputs": [
    {
     "name": "stdout",
     "output_type": "stream",
     "text": [
      "0.017\n",
      "0.138\n"
     ]
    }
   ],
   "source": [
    "ordersByUsersA = orders[orders['group']=='A'].groupby('userId', as_index=False).agg({'orderId' : pd.Series.nunique})\n",
    "ordersByUsersA.columns = ['userId', 'orders']\n",
    "\n",
    "ordersByUsersB = orders[orders['group']=='B'].groupby('userId', as_index=False).agg({'orderId' : pd.Series.nunique})\n",
    "ordersByUsersB.columns = ['userId', 'orders']\n",
    "\n",
    "sampleA = pd.concat([ordersByUsersA['orders'],pd.Series(0, index=np.arange(visitors[visitors['group']=='A']['visitors'].sum() - len(ordersByUsersA['orders'])), name='orders')],axis=0)\n",
    "\n",
    "sampleB = pd.concat([ordersByUsersB['orders'],pd.Series(0, index=np.arange(visitors[visitors['group']=='B']['visitors'].sum() - len(ordersByUsersB['orders'])), name='orders')],axis=0)\n",
    "\n",
    "print(\"{0:.3f}\".format(stats.mannwhitneyu(sampleA, sampleB)[1]))\n",
    "\n",
    "print(\"{0:.3f}\".format(sampleB.mean()/sampleA.mean()-1))"
   ]
  },
  {
   "cell_type": "code",
   "execution_count": 13,
   "metadata": {},
   "outputs": [
    {
     "name": "stdout",
     "output_type": "stream",
     "text": [
      "0.692\n",
      "0.252\n"
     ]
    }
   ],
   "source": [
    "print('{0:.3f}'.format(stats.mannwhitneyu(orders[orders['group']=='A']['revenue'], orders[orders['group']=='B']['revenue'])[1]))\n",
    "print('{0:.3f}'.format(orders[orders['group']=='B']['revenue'].mean()/orders[orders['group']=='A']['revenue'].mean()-1))"
   ]
  },
  {
   "cell_type": "code",
   "execution_count": 14,
   "metadata": {},
   "outputs": [
    {
     "name": "stdout",
     "output_type": "stream",
     "text": [
      "227    2038680547\n",
      "326    2378935119\n",
      "278    2458001652\n",
      "499    4256040402\n",
      "Name: userId, dtype: int64\n",
      "(4,)\n"
     ]
    }
   ],
   "source": [
    "usersWithManyOrders = pd.concat([ordersByUsersA[ordersByUsersA['orders'] > 4]['userId'], ordersByUsersB[ordersByUsersB['orders'] > 4]['userId']], axis = 0)\n",
    "usersWithExpensiveOrders = orders[orders['revenue'] > 20000]['userId']\n",
    "abnormalUsers = pd.concat([usersWithManyOrders, usersWithExpensiveOrders], axis = 0).drop_duplicates().sort_values()\n",
    "print(abnormalUsers.head(5))\n",
    "print(abnormalUsers.shape)\n"
   ]
  },
  {
   "cell_type": "markdown",
   "metadata": {},
   "source": [
    "<div>\n",
    "<b>Temos 4 usuários anômalos no total.\n",
    "</b> <a class=\"tocSkip\"></a>\n",
    "</div>"
   ]
  },
  {
   "cell_type": "code",
   "execution_count": 15,
   "metadata": {},
   "outputs": [],
   "source": [
    "sampleAFiltered = pd.concat([ordersByUsersA[np.logical_not(ordersByUsersA['userId'].isin(abnormalUsers))]['orders'],pd.Series(0, index=np.arange(visitors[visitors['group']=='A']['visitors'].sum() - len(ordersByUsersA['orders'])),name='orders')],axis=0)\n",
    "\n",
    "sampleBFiltered = pd.concat([ordersByUsersB[np.logical_not(ordersByUsersB['userId'].isin(abnormalUsers))]['orders'],pd.Series(0, index=np.arange(visitors[visitors['group']=='B']['visitors'].sum() - len(ordersByUsersB['orders'])),name='orders')],axis=0)"
   ]
  },
  {
   "cell_type": "markdown",
   "metadata": {},
   "source": [
    "<div>\n",
    "<b>Critério estatístico Mann-Whitney às amostras resultantes:\n",
    "</b> <a class=\"tocSkip\"></a>\n",
    "</div>"
   ]
  },
  {
   "cell_type": "code",
   "execution_count": 16,
   "metadata": {},
   "outputs": [
    {
     "name": "stdout",
     "output_type": "stream",
     "text": [
      "0.016\n",
      "0.149\n"
     ]
    }
   ],
   "source": [
    "print(\"{0:.3f}\".format(stats.mannwhitneyu(sampleAFiltered, sampleBFiltered)[1]))\n",
    "print(\"{0:.3f}\".format(sampleBFiltered.mean()/sampleAFiltered.mean()-1))"
   ]
  },
  {
   "cell_type": "markdown",
   "metadata": {},
   "source": [
    "<div>\n",
    "<b>volume médio de pedidos:\n",
    "</b> <a class=\"tocSkip\"></a>\n",
    "</div>"
   ]
  },
  {
   "cell_type": "code",
   "execution_count": 17,
   "metadata": {},
   "outputs": [
    {
     "name": "stdout",
     "output_type": "stream",
     "text": [
      "0.960\n",
      "0.235\n"
     ]
    }
   ],
   "source": [
    "print('{0:.3f}'.format(stats.mannwhitneyu(\n",
    "    orders[np.logical_and(\n",
    "        orders['group']=='A',\n",
    "        np.logical_not(orders['userId'].isin(abnormalUsers)))]['revenue'],\n",
    "    orders[np.logical_and(\n",
    "        orders['group']=='B',\n",
    "        np.logical_not(orders['userId'].isin(abnormalUsers)))]['revenue'])[1]))\n",
    "\n",
    "print('{0:.3f}'.format(\n",
    "    orders[np.logical_and(orders['group']=='B',np.logical_not(orders['userId'].isin(abnormalUsers)))]['revenue'].mean()/\n",
    "    orders[np.logical_and(\n",
    "        orders['group']=='A',\n",
    "        np.logical_not(orders['userId'].isin(abnormalUsers)))]['revenue'].mean() - 1))"
   ]
  },
  {
   "cell_type": "markdown",
   "metadata": {},
   "source": [
    "<div>\n",
    "<b>1. Faça um gráfico da receita acumulada por grupo. Tire conclusões e conjecturas.\n",
    "</b> <a class=\"tocSkip\"></a>\n",
    "</div>"
   ]
  },
  {
   "cell_type": "code",
   "execution_count": 20,
   "metadata": {},
   "outputs": [
    {
     "data": {
      "image/png": "[encoded data removed]",
      "text/plain": [
       "<Figure size 1200x600 with 1 Axes>"
      ]
     },
     "metadata": {},
     "output_type": "display_data"
    }
   ],
   "source": [
    "orders['date'] = pd.to_datetime(orders['date'])\n",
    "visitors['date'] = pd.to_datetime(visitors['date'])\n",
    "\n",
    "\n",
    "cumulative_revenue_A = orders[orders['group'] == 'A'].groupby('date').agg({'revenue': 'sum'}).cumsum()\n",
    "cumulative_revenue_A = cumulative_revenue_A.reset_index()\n",
    "\n",
    "cumulative_revenue_B = orders[orders['group'] == 'B'].groupby('date').agg({'revenue': 'sum'}).cumsum()\n",
    "cumulative_revenue_B = cumulative_revenue_B.reset_index()\n",
    "\n",
    "\n",
    "plt.figure(figsize=(12, 6))\n",
    "plt.plot(cumulative_revenue_A['date'], cumulative_revenue_A['revenue'], label='Grupo A')\n",
    "plt.plot(cumulative_revenue_B['date'], cumulative_revenue_B['revenue'], label='Grupo B')\n",
    "plt.xlabel('Data')\n",
    "plt.ylabel('Receita Acumulada')\n",
    "plt.title('Receita Acumulada por Grupo')\n",
    "plt.legend()\n",
    "plt.grid(True)\n",
    "plt.show()\n",
    "\n",
    "#plt.plot(cumulative_revenue_A['date'], cumulative_revenue_A['cum_revenue'], label='Grupo A', marker='o', linestyle='-')\n",
    "#plt.plot(cumulative_revenue_B['date'], cumulative_revenue_B['cum_revenue'], label='Grupo B', marker='o', linestyle='-')"
   ]
  },
  {
   "cell_type": "markdown",
   "metadata": {},
   "source": [
    "Conclusões e Conjecturas:\n",
    "\n",
    "O grupo B contribui significativamente mais para a receita acumulada em comparação com o grupo A.\n",
    "A receita acumulada do grupo B cresce de forma mais acentuada, sugerindo que este grupo tem um impacto maior na receita total.\n",
    "Pode ser interessante investigar as características do grupo B para entender o motivo de sua alta contribuição e aplicar essas estratégias ao grupo A."
   ]
  },
  {
   "cell_type": "markdown",
   "metadata": {},
   "source": [
    "<div>\n",
    "<b>2. Faça um gráfico do tamanho médio acumulado do pedido por grupo. Tire\n",
    "conclusões e conjecturas.\n",
    "</b> <a class=\"tocSkip\"></a>\n",
    "</div>"
   ]
  },
  {
   "cell_type": "code",
   "execution_count": 22,
   "metadata": {},
   "outputs": [
    {
     "data": {
      "image/png": "[encoded data removed]",
      "text/plain": [
       "<Figure size 1400x700 with 1 Axes>"
      ]
     },
     "metadata": {},
     "output_type": "display_data"
    }
   ],
   "source": [
    "orders['date'] = pd.to_datetime(orders['date'])\n",
    "\n",
    "# Calcular a receita acumulada por grupo\n",
    "orders['cum_revenue'] = orders.groupby(['group'])['revenue'].cumsum()\n",
    "orders['cum_orders'] = orders.groupby(['group']).cumcount() + 1\n",
    "\n",
    "orders.sort_values(by='date',inplace=True)\n",
    "\n",
    "# Calcular a média acumulada por grupo\n",
    "orders['cumulative_avg'] = orders['cum_revenue'] / orders['cum_orders']\n",
    "\n",
    "# Filtrar dados por grupo\n",
    "cumulative_revenue_A = orders[orders['group'] == 'A'][['date', 'cum_revenue', 'cum_orders', 'cumulative_avg']]\n",
    "cumulative_revenue_B = orders[orders['group'] == 'B'][['date', 'cum_revenue', 'cum_orders', 'cumulative_avg']]\n",
    "\n",
    "# Remover duplicatas apenas nas datas\n",
    "cumulative_revenue_A = cumulative_revenue_A.drop_duplicates(subset='date', keep='last')\n",
    "cumulative_revenue_B = cumulative_revenue_B.drop_duplicates(subset='date', keep='last')\n",
    "\n",
    "# Plotar os dados\n",
    "plt.figure(figsize=(14, 7))\n",
    "plt.plot(cumulative_revenue_A['date'], \n",
    "         cumulative_revenue_A['cum_revenue'] / cumulative_revenue_A['cum_orders'], \n",
    "         label='Grupo A', color='darkred')\n",
    "plt.plot(cumulative_revenue_B['date'], \n",
    "         cumulative_revenue_B['cum_revenue'] / cumulative_revenue_B['cum_orders'], \n",
    "         label='Grupo B', color='darkblue')\n",
    "plt.xlabel('Data')\n",
    "plt.ylabel('Tamanho Médio do Pedido Acumulado')\n",
    "plt.title('Tamanho Médio Acumulado do Pedido por Grupo')\n",
    "plt.legend()\n",
    "plt.grid(True)\n",
    "plt.show()"
   ]
  },
  {
   "cell_type": "markdown",
   "metadata": {},
   "source": [
    "<div>\n",
    "<b>3. Faça um gráfico da diferença relativa no tamanho médio acumulado do pedido para\n",
    "o grupo B em comparação com o grupo A. Faça conclusões e conjectura\n",
    "</b> <a class=\"tocSkip\"></a>\n",
    "</div>"
   ]
  },
  {
   "cell_type": "code",
   "execution_count": null,
   "metadata": {},
   "outputs": [],
   "source": [
    "# Calcular a média acumulada para cada grupo\n",
    "orders['cumulative_mean_A'] = orders[orders['group'] == 'A']['revenue'].expanding().mean().reset_index(drop=True)\n",
    "orders['cumulative_mean_B'] = orders[orders['group'] == 'B']['revenue'].expanding().mean().reset_index(drop=True)\n",
    "\n",
    "# Combinar as médias acumuladas em um único DataFrame\n",
    "cumulative_means_A = orders[orders['group'] == 'A'][['date', 'cumulative_mean_A']].reset_index(drop=True)\n",
    "cumulative_means_B = orders[orders['group'] == 'B'][['date', 'cumulative_mean_B']].reset_index(drop=True)\n",
    "cumulative_means = pd.merge(cumulative_means_A, cumulative_means_B, on='date', how='outer')\n",
    "\n",
    "# Calcular a diferença relativa\n",
    "cumulative_means['relative_difference'] = (cumulative_means['cumulative_mean_B'] - cumulative_means['cumulative_mean_A']) / cumulative_means['cumulative_mean_A']\n",
    "\n",
    "# Plotar o gráfico\n",
    "plt.figure(figsize=(10, 6))\n",
    "plt.plot(cumulative_means['date'], cumulative_means['relative_difference'], linestyle='-', color='b')\n",
    "plt.xlabel('Data')\n",
    "plt.ylabel('Diferença Relativa')\n",
    "plt.title('Diferença Relativa no Tamanho Médio Acumulado do Pedido (Grupo B vs Grupo A)')\n",
    "plt.grid(True)\n",
    "plt.show()"
   ]
  },
  {
   "cell_type": "code",
   "execution_count": 27,
   "metadata": {},
   "outputs": [
    {
     "data": {
      "image/png": "[encoded data removed]",
      "text/plain": [
       "<Figure size 1200x600 with 1 Axes>"
      ]
     },
     "metadata": {},
     "output_type": "display_data"
    }
   ],
   "source": [
    "# Calcular a receita acumulada por grupo\n",
    "cumulative_revenue_A = orders[orders['group'] == 'A'].groupby('date').agg({'revenue': 'sum'}).cumsum().reset_index()\n",
    "cumulative_revenue_B = orders[orders['group'] == 'B'].groupby('date').agg({'revenue': 'sum'}).cumsum().reset_index()\n",
    "\n",
    "# Calcular o número acumulado de pedidos por grupo\n",
    "cumulative_orders_A = orders[orders['group'] == 'A'].groupby('date').agg({'orderId': 'count'}).cumsum().reset_index()\n",
    "cumulative_orders_B = orders[orders['group'] == 'B'].groupby('date').agg({'orderId': 'count'}).cumsum().reset_index()\n",
    "\n",
    "# Calcular o tamanho médio acumulado do pedido por grupo\n",
    "cumulative_avg_order_A = cumulative_revenue_A['revenue'] / cumulative_orders_A['orderId']\n",
    "cumulative_avg_order_B = cumulative_revenue_B['revenue'] / cumulative_orders_B['orderId']\n",
    "\n",
    "# Juntar os dados em um DataFrame\n",
    "cumulative_data = pd.DataFrame({\n",
    "    'date': cumulative_revenue_A['date'],\n",
    "    'cumulative_avg_order_A': cumulative_avg_order_A,\n",
    "    'cumulative_avg_order_B': cumulative_avg_order_B\n",
    "})\n",
    "\n",
    "# Calcular a diferença relativa\n",
    "cumulative_data['relative_difference'] = (cumulative_data['cumulative_avg_order_B'] / cumulative_data['cumulative_avg_order_A']) - 1\n",
    "\n",
    "# Plotar o gráfico\n",
    "plt.figure(figsize=(12, 6))\n",
    "plt.plot(cumulative_data['date'], cumulative_data['relative_difference'], label='Diferença Relativa')\n",
    "plt.axhline(y=0, color='black', linestyle='--')\n",
    "plt.xlabel('Data')\n",
    "plt.ylabel('Diferença Relativa')\n",
    "plt.title('Diferença Relativa no Tamanho Médio Acumulado do Pedido (Grupo B vs Grupo A)')\n",
    "plt.legend()\n",
    "plt.grid(True)\n",
    "plt.show()"
   ]
  },
  {
   "cell_type": "markdown",
   "metadata": {},
   "source": [
    "Conclusões e Conjecturas:\n",
    "\n",
    "Diferença Relativa: O gráfico mostra a diferença relativa no tamanho médio acumulado dos pedidos entre os grupos B e A ao longo do tempo.\n",
    "Tendências: Se a linha do gráfico estiver acima de zero, isso indica que o grupo B tem um tamanho médio acumulado de pedido maior do que o grupo A. Se estiver abaixo de zero, o contrário é verdadeiro.\n",
    "Conjectura: Se a diferença relativa aumentar consistentemente, pode-se conjecturar que o grupo B está se tornando mais lucrativo em comparação com o grupo A. Se diminuir, o grupo A pode estar ganhando vantagem.\n",
    "\n"
   ]
  },
  {
   "cell_type": "markdown",
   "metadata": {},
   "source": [
    "<div>\n",
    "<b>4. Calcule a taxa de conversão de cada grupo como a proporção de pedidos para o\n",
    "número de visitas para cada dia. Trace as taxas de conversão diárias dos dois\n",
    "grupos e descreva a diferença. Tire conclusões e faça conjecturas.\n",
    "</b> <a class=\"tocSkip\"></a>\n",
    "</div>\n"
   ]
  },
  {
   "cell_type": "code",
   "execution_count": null,
   "metadata": {},
   "outputs": [],
   "source": [
    "visitors['date'] = pd.to_datetime(visitors['date'])\n",
    "orders['date'] = pd.to_datetime(orders['date'])\n",
    "\n",
    "# Contando o número de pedidos por dia e grupo\n",
    "orders_count = orders.groupby(['date', 'group']).size().reset_index(name='orders')\n",
    "\n",
    "# Mesclando os dados de visitas e pedidos\n",
    "merged_df = pd.merge(visitors, orders_count, on=['date', 'group'], how='left').fillna(0)\n",
    "\n",
    "# Calculando a taxa de conversão\n",
    "merged_df['conversion_rate'] = merged_df['orders'] / merged_df['visitors']\n",
    "\n",
    "# Plotando as taxas de conversão\n",
    "plt.figure(figsize=(12, 6))\n",
    "for group in merged_df['group'].unique():\n",
    "    group_data = merged_df[merged_df['group'] == group]\n",
    "    plt.plot(group_data['date'], group_data['conversion_rate'], marker='o', label=f'Grupo {group}')\n",
    "\n",
    "plt.xlabel('Data')\n",
    "plt.ylabel('Taxa de Conversão')\n",
    "plt.title('Taxa de Conversão Diária por Grupo')\n",
    "plt.legend()\n",
    "plt.xticks(rotation=45)\n",
    "plt.grid(True)\n",
    "plt.show()\n",
    "\n",
    "# Descrevendo a diferença\n",
    "group_a = merged_df[merged_df['group'] == 'A']\n",
    "group_b = merged_df[merged_df['group'] == 'B']\n",
    "\n",
    "print(\"Taxa de Conversão Média do Grupo A:\", group_a['conversion_rate'].mean())\n",
    "print(\"Taxa de Conversão Média do Grupo B:\", group_b['conversion_rate'].mean())\n",
    "\n",
    "# Conclusões e Conjecturas\n",
    "if group_a['conversion_rate'].mean() > group_b['conversion_rate'].mean():\n",
    "    print(\"O Grupo A tem uma taxa de conversão média maior que o Grupo B.\")\n",
    "else:\n",
    "    print(\"O Grupo B tem uma taxa de conversão média maior que o Grupo A.\")"
   ]
  },
  {
   "cell_type": "markdown",
   "metadata": {},
   "source": [
    "<div>\n",
    "<b>5. Faça um gráfico de dispersão do número de pedidos por usuário. Tire conclusões e\n",
    "conjecturas.\n",
    "</b> <a class=\"tocSkip\"></a>\n",
    "</div>\n"
   ]
  },
  {
   "cell_type": "code",
   "execution_count": null,
   "metadata": {},
   "outputs": [],
   "source": [
    "orders_per_user = orders['userId'].value_counts()\n",
    "\n",
    "# Criar gráfico de dispersão\n",
    "plt.figure(figsize=(10, 6))\n",
    "plt.scatter(orders_per_user.index, orders_per_user.values)\n",
    "plt.xlabel('User ID')\n",
    "plt.ylabel('Numero de Ordens')\n",
    "plt.title('Numero de Ordens por Usuarios')\n",
    "plt.show()"
   ]
  },
  {
   "cell_type": "markdown",
   "metadata": {},
   "source": [
    "Conclusões e Conjecturas:\n",
    "\n",
    "Distribuição de Pedidos: A maioria dos usuários faz poucos pedidos, enquanto alguns usuários fazem muitos pedidos.\n",
    "Usuários Frequentes: Identificar usuários com muitos pedidos pode ajudar a entender comportamentos de compra e direcionar campanhas de marketing.\n",
    "Análise de Outliers: Usuários com um número excepcionalmente alto de pedidos podem ser outliers e merecem uma análise mais detalhada para entender o motivo desse comportamento."
   ]
  },
  {
   "cell_type": "markdown",
   "metadata": {},
   "source": [
    "<div>\n",
    "<b>6. Calcule os percentis 95 e 99 para o número de pedidos por usuário. Defina o ponto\n",
    "em que um ponto de dados se torna uma anomalia.\n",
    "</b> <a class=\"tocSkip\"></a>\n",
    "</div>\n"
   ]
  },
  {
   "cell_type": "code",
   "execution_count": null,
   "metadata": {},
   "outputs": [],
   "source": [
    "# Contar o número de pedidos por usuário\n",
    "orders_per_user = orders['userId'].value_counts()\n",
    "\n",
    "# Calcular os percentis 95 e 99\n",
    "percentil_95 = orders_per_user.quantile(0.95)\n",
    "percentil_99 = orders_per_user.quantile(0.99)\n",
    "\n",
    "# Definir o ponto em que um ponto de dados se torna uma anomalia\n",
    "anomalia_limite = percentil_99\n",
    "\n",
    "percentil_95, percentil_99, anomalia_limite"
   ]
  },
  {
   "cell_type": "markdown",
   "metadata": {},
   "source": [
    "Percentil 95: O valor abaixo do qual 95% dos dados caem.\n",
    "Percentil 99: O valor abaixo do qual 99% dos dados caem.\n",
    "Anomalia: Qualquer valor acima do percentil 99 é considerado uma anomalia."
   ]
  },
  {
   "cell_type": "markdown",
   "metadata": {},
   "source": [
    "<div>\n",
    "<b>7. Faça um gráfico de dispersão dos preços dos pedidos. Tire conclusões e\n",
    "conjecturas.\n",
    "</b> <a class=\"tocSkip\"></a>\n",
    "</div>\n"
   ]
  },
  {
   "cell_type": "code",
   "execution_count": null,
   "metadata": {},
   "outputs": [],
   "source": [
    "# Gráfico de dispersão\n",
    "plt.figure(figsize=(10, 6))\n",
    "for group in orders['group'].unique():\n",
    "    subset = orders[orders['group'] == group]\n",
    "    plt.scatter(subset['orderId'], subset['revenue'], label=f'Grupo {group}')\n",
    "\n",
    "plt.title('Gráfico de Dispersão dos Preços dos Pedidos')\n",
    "plt.xlabel('ID do Pedido')\n",
    "plt.ylabel('Receita')\n",
    "plt.legend()\n",
    "plt.show()"
   ]
  },
  {
   "cell_type": "markdown",
   "metadata": {},
   "source": [
    "Conclusões e Conjecturas:\n",
    "\n",
    "Variedade de Receitas: Há uma grande variação nas receitas dos pedidos, com alguns pedidos gerando receitas muito altas (por exemplo, 3120.1).\n",
    "Diferença entre Grupos: Os grupos A e B mostram diferentes padrões de receita, sugerindo que podem haver características distintas entre os grupos que influenciam os valores das receitas.\n",
    "Outliers: Existem outliers significativos, como o pedido com receita de 3120.1, que podem distorcer a análise se não forem considerados separadamente."
   ]
  },
  {
   "cell_type": "markdown",
   "metadata": {},
   "source": [
    "<div>\n",
    "<b>8. Calcule os percentis 95 e 99 dos preços dos pedidos. Defina o ponto em que um\n",
    "ponto de dados se torna uma anomalia.\n",
    "</b> <a class=\"tocSkip\"></a>\n",
    "</div>\n"
   ]
  },
  {
   "cell_type": "code",
   "execution_count": 36,
   "metadata": {},
   "outputs": [
    {
     "data": {
      "text/plain": [
       "(435.54, 900.9039999999999, 900.9039999999999)"
      ]
     },
     "execution_count": 36,
     "metadata": {},
     "output_type": "execute_result"
    }
   ],
   "source": [
    "# Calcular percentis 95 e 99\n",
    "percentil_95 = orders['revenue'].quantile(0.95)\n",
    "percentil_99 = orders['revenue'].quantile(0.99)\n",
    "\n",
    "# Definir ponto de anomalia\n",
    "anomalia_limite = percentil_99\n",
    "\n",
    "percentil_95, percentil_99, anomalia_limite"
   ]
  },
  {
   "cell_type": "markdown",
   "metadata": {},
   "source": [
    "Percentil 95: O valor abaixo do qual 95% dos preços dos pedidos se encontram.\n",
    "Percentil 99: O valor abaixo do qual 99% dos preços dos pedidos se encontram.\n",
    "Ponto de Anomalia: Qualquer valor acima do percentil 99 é considerado uma anomalia."
   ]
  },
  {
   "cell_type": "markdown",
   "metadata": {},
   "source": [
    "<div>\n",
    "<b>9. Encontre a significância estatística da diferença na conversão entre os grupos\n",
    "usando os dados brutos. Tire conclusões e conjecturas.\n",
    "</b> <a class=\"tocSkip\"></a>\n",
    "</div>\n"
   ]
  },
  {
   "cell_type": "code",
   "execution_count": null,
   "metadata": {},
   "outputs": [],
   "source": [
    "# Separar os grupos\n",
    "group_A = orders[orders['group'] == 'A']['revenue']\n",
    "group_B = orders[orders['group'] == 'B']['revenue']\n",
    "\n",
    "# Calcular a média e o desvio padrão de cada grupo\n",
    "mean_A = group_A.mean()\n",
    "mean_B = group_B.mean()\n",
    "std_A = group_A.std()\n",
    "std_B = group_B.std()\n",
    "\n",
    "# Realizar o teste t para duas amostras independentes\n",
    "t_stat, p_value = stats.ttest_ind(group_A, group_B)\n",
    "\n",
    "# Resultados\n",
    "print(f'Média do grupo A: {mean_A}')\n",
    "print(f'Média do grupo B: {mean_B}')\n",
    "print(f'T-statistic: {t_stat}')\n",
    "print(f'P-valor: {p_value}')\n",
    "\n",
    "# Conclusão\n",
    "alpha = 0.05\n",
    "if p_value < alpha:\n",
    "    print('A diferença na conversão entre os grupos é estatisticamente significativa.')\n",
    "else:\n",
    "    print('A diferença na conversão entre os grupos não é estatisticamente significativa.')"
   ]
  },
  {
   "cell_type": "markdown",
   "metadata": {},
   "source": [
    "Conclusões e Conjecturas:\n",
    "\n",
    "Média dos Grupos: Compare as médias dos grupos A e B para entender qual grupo teve maior receita média.\n",
    "Significância Estatística: Se o p-valor for menor que 0.05, a diferença entre os grupos é estatisticamente significativa, indicando que a diferença observada não é devida ao acaso1.\n",
    "Impacto Prático: Mesmo que a diferença seja estatisticamente significativa, considere a magnitude da diferença e seu impacto prático no contexto do negócio2."
   ]
  },
  {
   "cell_type": "markdown",
   "metadata": {},
   "source": [
    "<div>\n",
    "<b>10. Encontre a significância estatística da diferença no tamanho médio do pedido entre\n",
    "os grupos usando os dados brutos. Tire conclusões e conjecturas.\n",
    "</b> <a class=\"tocSkip\"></a>\n",
    "</div>\n"
   ]
  },
  {
   "cell_type": "code",
   "execution_count": 35,
   "metadata": {},
   "outputs": [
    {
     "name": "stdout",
     "output_type": "stream",
     "text": [
      "T-statistic: -0.8345854854522996\n",
      "P-value: 0.40411794485266783\n",
      "A diferença no tamanho médio do pedido entre os grupos não é estatisticamente significativa.\n"
     ]
    }
   ],
   "source": [
    "# Separar os grupos\n",
    "group_A = orders[orders['group'] == 'A']['revenue']\n",
    "group_B = orders[orders['group'] == 'B']['revenue']\n",
    "\n",
    "# Calcular a significância estatística usando o teste t de Student\n",
    "t_stat, p_value = stats.ttest_ind(group_A, group_B)\n",
    "\n",
    "# Resultados\n",
    "print(f\"T-statistic: {t_stat}\")\n",
    "print(f\"P-value: {p_value}\")\n",
    "\n",
    "# Conclusões\n",
    "if p_value < 0.05:\n",
    "    print(\"A diferença no tamanho médio do pedido entre os grupos é estatisticamente significativa.\")\n",
    "else:\n",
    "    print(\"A diferença no tamanho médio do pedido entre os grupos não é estatisticamente significativa.\")"
   ]
  },
  {
   "cell_type": "markdown",
   "metadata": {},
   "source": [
    "Conclusões e Conjecturas:\n",
    "\n",
    "T-statistic: Valor da estatística t calculada.\n",
    "P-value: Valor p associado ao teste t.\n",
    "Se o p-value for menor que 0.05, a diferença no tamanho médio do pedido entre os grupos é estatisticamente significativa, indicando que os grupos A e B têm tamanhos médios de pedido diferentes.\n",
    "Se o p-value for maior ou igual a 0.05, a diferença não é estatisticamente significativa, sugerindo que não há evidência suficiente para afirmar que os tamanhos médios dos pedidos são diferentes entre os grupos A e B."
   ]
  },
  {
   "cell_type": "markdown",
   "metadata": {},
   "source": [
    "<div>\n",
    "<b>11. Encontre a significância estatística da diferença na conversão entre os grupos\n",
    "usando os dados filtrados. Tire conclusões e conjecturas.\n",
    "</b> <a class=\"tocSkip\"></a>\n",
    "</div>\n"
   ]
  },
  {
   "cell_type": "code",
   "execution_count": 34,
   "metadata": {},
   "outputs": [
    {
     "name": "stdout",
     "output_type": "stream",
     "text": [
      "Taxa de conversão do Grupo A: 0.0297\n",
      "Taxa de conversão do Grupo B: 0.0338\n",
      "z-score: -2.2700\n",
      "p-value: 0.0232\n",
      "A diferença na conversão entre os grupos A e B é estatisticamente significativa.\n"
     ]
    }
   ],
   "source": [
    "# Calcular o número de visitas e transações por grupo\n",
    "visits_by_group = visitors.groupby('group')['visitors'].sum()\n",
    "orders_by_group = orders.groupby('group')['orderId'].nunique()\n",
    "\n",
    "# Calcular a taxa de conversão por grupo\n",
    "conversion_rate_A = orders_by_group['A'] / visits_by_group['A']\n",
    "conversion_rate_B = orders_by_group['B'] / visits_by_group['B']\n",
    "\n",
    "# Calcular o número de visitas e transações totais\n",
    "visits_A = visits_by_group['A']\n",
    "visits_B = visits_by_group['B']\n",
    "orders_A = orders_by_group['A']\n",
    "orders_B = orders_by_group['B']\n",
    "\n",
    "# Calcular a significância estatística usando o teste z para proporções\n",
    "conversion_rate = (orders_A + orders_B) / (visits_A + visits_B)\n",
    "z_score = (conversion_rate_A - conversion_rate_B) / np.sqrt(conversion_rate * (1 - conversion_rate) * (1/visits_A + 1/visits_B))\n",
    "p_value = stats.norm.sf(abs(z_score)) * 2  # Valor p para um teste bicaudal\n",
    "\n",
    "print(f\"Taxa de conversão do Grupo A: {conversion_rate_A:.4f}\")\n",
    "print(f\"Taxa de conversão do Grupo B: {conversion_rate_B:.4f}\")\n",
    "print(f\"z-score: {z_score:.4f}\")\n",
    "print(f\"p-value: {p_value:.4f}\")\n",
    "\n",
    "# Conclusões\n",
    "if p_value < 0.05:\n",
    "    print(\"A diferença na conversão entre os grupos A e B é estatisticamente significativa.\")\n",
    "else:\n",
    "    print(\"A diferença na conversão entre os grupos A e B não é estatisticamente significativa.\")\n"
   ]
  },
  {
   "cell_type": "markdown",
   "metadata": {},
   "source": [
    "Conclusões e Conjecturas:\n",
    "\n",
    "Taxa de Conversão: O grupo A tem uma taxa de conversão média de ( \\text{conversion_A} ) e o grupo B tem uma taxa de conversão média de ( \\text{conversion_B} ).\n",
    "Significância Estatística: Se o valor p for menor que 0.05, a diferença na conversão entre os grupos é estatisticamente significativa, indicando que a diferença observada provavelmente não é devido ao acaso.\n",
    "Interpretação: Se a diferença for significativa, pode-se conjecturar que o grupo B, por exemplo, tem uma estratégia de conversão mais eficaz. Caso contrário, as estratégias dos grupos podem ser consideradas igualmente eficazes."
   ]
  },
  {
   "cell_type": "markdown",
   "metadata": {},
   "source": [
    "<div>\n",
    "<b>12. Encontre a significância estatística da diferença no tamanho médio do pedido entre\n",
    "os grupos usando os dados filtrados. Tire conclusões e conjecturas.\n",
    "</b> <a class=\"tocSkip\"></a>\n",
    "</div>\n"
   ]
  },
  {
   "cell_type": "code",
   "execution_count": null,
   "metadata": {},
   "outputs": [],
   "source": [
    "# Filtrar dados por grupo\n",
    "group_A = orders[orders['group'] == 'A']['revenue']\n",
    "group_B = orders[orders['group'] == 'B']['revenue']\n",
    "\n",
    "# Calcular médias\n",
    "mean_A = group_A.mean()\n",
    "mean_B = group_B.mean()\n",
    "\n",
    "# Teste t para amostras independentes\n",
    "t_stat, p_value = stats.ttest_ind(group_A, group_B)\n",
    "\n",
    "# Resultados\n",
    "print(f\"Média do Grupo A: {mean_A}\")\n",
    "print(f\"Média do Grupo B: {mean_B}\")\n",
    "print(f\"Estatística t: {t_stat}\")\n",
    "print(f\"Valor p: {p_value}\")\n",
    "\n",
    "# Conclusões\n",
    "if p_value < 0.05:\n",
    "    print(\"A diferença no tamanho médio do pedido entre os grupos é estatisticamente significativa.\")\n",
    "else:\n",
    "    print(\"A diferença no tamanho médio do pedido entre os grupos não é estatisticamente significativa.\")"
   ]
  },
  {
   "cell_type": "markdown",
   "metadata": {},
   "source": [
    "Conclusões e Conjecturas:\n",
    "\n",
    "Média do Grupo A: Calculada a partir dos valores de receita do grupo A.\n",
    "Média do Grupo B: Calculada a partir dos valores de receita do grupo B.\n",
    "Teste t: Utilizado para comparar as médias dos dois grupos.\n",
    "Valor p: Determina a significância estatística da diferença entre as médias.\n",
    "Se o valor p for menor que 0.05, a diferença entre os grupos é estatisticamente significativa, indicando que é improvável que a diferença observada seja devido ao acaso. Caso contrário, não há evidência suficiente para afirmar que a diferença é significativa."
   ]
  },
  {
   "cell_type": "markdown",
   "metadata": {},
   "source": [
    "<div class=\"alert alert-block alert-info\">\n",
    "<b>conclução\n",
    "</b> <a class=\"tocSkip\"></a>\n",
    "\n",
    "a. Parar o teste, considero um dos grupos o líder que por ventura é o grupo B\n",
    "</div>"
   ]
  }
 ],
 "metadata": {
  "ExecuteTimeLog": [
   {
    "duration": 4789,
    "start_time": "2024-06-30T20:42:49.154Z"
   },
   {
    "duration": 1155,
    "start_time": "2024-06-30T20:42:53.946Z"
   },
   {
    "duration": 0,
    "start_time": "2024-06-30T20:42:55.106Z"
   },
   {
    "duration": 0,
    "start_time": "2024-06-30T20:42:55.109Z"
   },
   {
    "duration": 0,
    "start_time": "2024-06-30T20:42:55.111Z"
   },
   {
    "duration": 0,
    "start_time": "2024-06-30T20:42:55.114Z"
   },
   {
    "duration": 0,
    "start_time": "2024-06-30T20:42:55.115Z"
   },
   {
    "duration": 0,
    "start_time": "2024-06-30T20:42:55.134Z"
   },
   {
    "duration": 0,
    "start_time": "2024-06-30T20:42:55.136Z"
   },
   {
    "duration": 0,
    "start_time": "2024-06-30T20:42:55.138Z"
   },
   {
    "duration": 0,
    "start_time": "2024-06-30T20:42:55.140Z"
   },
   {
    "duration": 0,
    "start_time": "2024-06-30T20:42:55.142Z"
   },
   {
    "duration": 0,
    "start_time": "2024-06-30T20:42:55.144Z"
   },
   {
    "duration": 0,
    "start_time": "2024-06-30T20:42:55.147Z"
   },
   {
    "duration": 0,
    "start_time": "2024-06-30T20:42:55.149Z"
   },
   {
    "duration": 0,
    "start_time": "2024-06-30T20:42:55.151Z"
   },
   {
    "duration": 0,
    "start_time": "2024-06-30T20:42:55.154Z"
   },
   {
    "duration": 0,
    "start_time": "2024-06-30T20:42:55.157Z"
   },
   {
    "duration": 0,
    "start_time": "2024-06-30T20:42:55.159Z"
   },
   {
    "duration": 0,
    "start_time": "2024-06-30T20:42:55.161Z"
   },
   {
    "duration": 0,
    "start_time": "2024-06-30T20:42:55.163Z"
   },
   {
    "duration": 0,
    "start_time": "2024-06-30T20:42:55.166Z"
   },
   {
    "duration": 0,
    "start_time": "2024-06-30T20:42:55.168Z"
   },
   {
    "duration": 0,
    "start_time": "2024-06-30T20:42:55.171Z"
   },
   {
    "duration": 0,
    "start_time": "2024-06-30T20:42:55.235Z"
   },
   {
    "duration": 0,
    "start_time": "2024-06-30T20:42:55.237Z"
   },
   {
    "duration": 0,
    "start_time": "2024-06-30T20:42:55.240Z"
   },
   {
    "duration": 0,
    "start_time": "2024-06-30T20:42:55.242Z"
   },
   {
    "duration": 46,
    "start_time": "2024-06-30T20:44:12.354Z"
   },
   {
    "duration": 22,
    "start_time": "2024-06-30T20:45:00.635Z"
   },
   {
    "duration": 20,
    "start_time": "2024-06-30T20:45:36.915Z"
   },
   {
    "duration": 18,
    "start_time": "2024-06-30T20:53:09.718Z"
   },
   {
    "duration": 34,
    "start_time": "2024-06-30T20:53:11.791Z"
   },
   {
    "duration": 15,
    "start_time": "2024-06-30T20:53:33.635Z"
   },
   {
    "duration": 22,
    "start_time": "2024-06-30T20:53:35.164Z"
   },
   {
    "duration": 21,
    "start_time": "2024-06-30T20:54:48.273Z"
   },
   {
    "duration": 259,
    "start_time": "2024-06-30T20:54:49.485Z"
   },
   {
    "duration": 14,
    "start_time": "2024-06-30T20:54:51.721Z"
   },
   {
    "duration": 283,
    "start_time": "2024-06-30T20:54:53.426Z"
   },
   {
    "duration": 13,
    "start_time": "2024-06-30T20:54:55.524Z"
   },
   {
    "duration": 13,
    "start_time": "2024-06-30T20:54:56.959Z"
   },
   {
    "duration": 13,
    "start_time": "2024-06-30T20:55:04.930Z"
   },
   {
    "duration": 32,
    "start_time": "2024-06-30T20:55:43.215Z"
   },
   {
    "duration": 18,
    "start_time": "2024-06-30T20:55:44.835Z"
   },
   {
    "duration": 216,
    "start_time": "2024-06-30T20:55:46.392Z"
   },
   {
    "duration": 876,
    "start_time": "2024-06-30T20:55:51.282Z"
   },
   {
    "duration": 4,
    "start_time": "2024-06-30T20:56:15.123Z"
   },
   {
    "duration": 124,
    "start_time": "2024-06-30T20:56:15.159Z"
   },
   {
    "duration": 0,
    "start_time": "2024-06-30T20:56:15.289Z"
   },
   {
    "duration": 0,
    "start_time": "2024-06-30T20:56:15.291Z"
   },
   {
    "duration": 0,
    "start_time": "2024-06-30T20:56:15.292Z"
   },
   {
    "duration": 0,
    "start_time": "2024-06-30T20:56:15.295Z"
   },
   {
    "duration": 0,
    "start_time": "2024-06-30T20:56:15.297Z"
   },
   {
    "duration": 0,
    "start_time": "2024-06-30T20:56:15.300Z"
   },
   {
    "duration": 0,
    "start_time": "2024-06-30T20:56:15.302Z"
   },
   {
    "duration": 0,
    "start_time": "2024-06-30T20:56:15.305Z"
   },
   {
    "duration": 0,
    "start_time": "2024-06-30T20:56:15.307Z"
   },
   {
    "duration": 0,
    "start_time": "2024-06-30T20:56:15.335Z"
   },
   {
    "duration": 0,
    "start_time": "2024-06-30T20:56:15.337Z"
   },
   {
    "duration": 0,
    "start_time": "2024-06-30T20:56:15.339Z"
   },
   {
    "duration": 0,
    "start_time": "2024-06-30T20:56:15.341Z"
   },
   {
    "duration": 0,
    "start_time": "2024-06-30T20:56:15.343Z"
   },
   {
    "duration": 0,
    "start_time": "2024-06-30T20:56:15.346Z"
   },
   {
    "duration": 0,
    "start_time": "2024-06-30T20:56:15.348Z"
   },
   {
    "duration": 0,
    "start_time": "2024-06-30T20:56:15.350Z"
   },
   {
    "duration": 0,
    "start_time": "2024-06-30T20:56:15.353Z"
   },
   {
    "duration": 0,
    "start_time": "2024-06-30T20:56:15.355Z"
   },
   {
    "duration": 0,
    "start_time": "2024-06-30T20:56:15.357Z"
   },
   {
    "duration": 0,
    "start_time": "2024-06-30T20:56:15.359Z"
   },
   {
    "duration": 0,
    "start_time": "2024-06-30T20:56:15.362Z"
   },
   {
    "duration": 0,
    "start_time": "2024-06-30T20:56:15.365Z"
   },
   {
    "duration": 0,
    "start_time": "2024-06-30T20:56:15.367Z"
   },
   {
    "duration": 0,
    "start_time": "2024-06-30T20:56:15.369Z"
   },
   {
    "duration": 0,
    "start_time": "2024-06-30T20:56:15.372Z"
   },
   {
    "duration": 0,
    "start_time": "2024-06-30T20:56:15.434Z"
   },
   {
    "duration": 122,
    "start_time": "2024-06-30T20:56:22.269Z"
   },
   {
    "duration": 21,
    "start_time": "2024-06-30T20:56:23.151Z"
   },
   {
    "duration": 19,
    "start_time": "2024-06-30T20:56:24.701Z"
   },
   {
    "duration": 17,
    "start_time": "2024-06-30T20:56:25.191Z"
   },
   {
    "duration": 17,
    "start_time": "2024-06-30T20:56:26.082Z"
   },
   {
    "duration": 19,
    "start_time": "2024-06-30T20:56:26.533Z"
   },
   {
    "duration": 22,
    "start_time": "2024-06-30T20:56:27.037Z"
   },
   {
    "duration": 18,
    "start_time": "2024-06-30T20:56:30.832Z"
   },
   {
    "duration": 228,
    "start_time": "2024-06-30T20:56:31.242Z"
   },
   {
    "duration": 17,
    "start_time": "2024-06-30T20:56:31.473Z"
   },
   {
    "duration": 258,
    "start_time": "2024-06-30T20:56:31.765Z"
   },
   {
    "duration": 14,
    "start_time": "2024-06-30T20:56:32.452Z"
   },
   {
    "duration": 12,
    "start_time": "2024-06-30T20:56:33.147Z"
   },
   {
    "duration": 13,
    "start_time": "2024-06-30T20:56:34.439Z"
   },
   {
    "duration": 32,
    "start_time": "2024-06-30T20:56:37.060Z"
   },
   {
    "duration": 17,
    "start_time": "2024-06-30T20:56:47.855Z"
   },
   {
    "duration": 218,
    "start_time": "2024-06-30T20:56:49.422Z"
   },
   {
    "duration": 95,
    "start_time": "2024-06-30T20:56:51.954Z"
   },
   {
    "duration": 235,
    "start_time": "2024-06-30T20:56:54.410Z"
   },
   {
    "duration": 388,
    "start_time": "2024-06-30T20:56:58.883Z"
   },
   {
    "duration": 96,
    "start_time": "2024-06-30T21:01:46.070Z"
   },
   {
    "duration": 27,
    "start_time": "2024-06-30T21:02:22.970Z"
   },
   {
    "duration": 23,
    "start_time": "2024-06-30T21:02:35.233Z"
   },
   {
    "duration": 6,
    "start_time": "2024-06-30T21:02:52.333Z"
   },
   {
    "duration": 7,
    "start_time": "2024-06-30T21:08:04.628Z"
   },
   {
    "duration": 237,
    "start_time": "2024-06-30T21:08:05.968Z"
   },
   {
    "duration": 21,
    "start_time": "2024-06-30T21:08:28.588Z"
   },
   {
    "duration": 77,
    "start_time": "2024-06-30T21:09:01.468Z"
   },
   {
    "duration": 9,
    "start_time": "2024-06-30T21:09:07.938Z"
   },
   {
    "duration": 210,
    "start_time": "2024-06-30T21:16:42.610Z"
   },
   {
    "duration": 10,
    "start_time": "2024-06-30T21:17:12.845Z"
   },
   {
    "duration": 25,
    "start_time": "2024-06-30T21:18:05.430Z"
   },
   {
    "duration": 7,
    "start_time": "2024-06-30T21:18:13.473Z"
   },
   {
    "duration": 315,
    "start_time": "2024-06-30T21:23:30.693Z"
   },
   {
    "duration": 11,
    "start_time": "2024-06-30T21:24:15.536Z"
   },
   {
    "duration": 13,
    "start_time": "2024-06-30T21:25:28.667Z"
   },
   {
    "duration": 10,
    "start_time": "2024-06-30T21:25:31.556Z"
   },
   {
    "duration": 13,
    "start_time": "2024-06-30T21:26:55.977Z"
   },
   {
    "duration": 10,
    "start_time": "2024-06-30T21:32:20.328Z"
   },
   {
    "duration": 345,
    "start_time": "2024-06-30T21:38:20.753Z"
   },
   {
    "duration": 22,
    "start_time": "2024-06-30T21:38:44.528Z"
   },
   {
    "duration": 100,
    "start_time": "2024-06-30T21:43:54.711Z"
   },
   {
    "duration": 322,
    "start_time": "2024-07-01T19:48:35.980Z"
   },
   {
    "duration": 4999,
    "start_time": "2024-07-01T19:48:48.286Z"
   },
   {
    "duration": 815,
    "start_time": "2024-07-01T19:49:04.844Z"
   },
   {
    "duration": 30,
    "start_time": "2024-07-01T19:49:32.592Z"
   },
   {
    "duration": 29,
    "start_time": "2024-07-01T19:49:43.782Z"
   },
   {
    "duration": 20,
    "start_time": "2024-07-01T19:49:50.858Z"
   },
   {
    "duration": 20,
    "start_time": "2024-07-01T19:49:54.634Z"
   },
   {
    "duration": 16,
    "start_time": "2024-07-01T19:50:01.261Z"
   },
   {
    "duration": 23,
    "start_time": "2024-07-01T19:50:02.716Z"
   },
   {
    "duration": 246,
    "start_time": "2024-07-01T19:50:26.170Z"
   },
   {
    "duration": 15,
    "start_time": "2024-07-01T19:50:26.987Z"
   },
   {
    "duration": 306,
    "start_time": "2024-07-01T19:50:27.630Z"
   },
   {
    "duration": 14,
    "start_time": "2024-07-01T19:50:28.652Z"
   },
   {
    "duration": 13,
    "start_time": "2024-07-01T19:50:29.973Z"
   },
   {
    "duration": 15,
    "start_time": "2024-07-01T19:50:31.949Z"
   },
   {
    "duration": 32,
    "start_time": "2024-07-01T19:50:44.519Z"
   },
   {
    "duration": 22,
    "start_time": "2024-07-01T19:50:45.959Z"
   },
   {
    "duration": 873,
    "start_time": "2024-07-01T19:54:18.082Z"
   },
   {
    "duration": 33,
    "start_time": "2024-07-01T20:05:29.978Z"
   },
   {
    "duration": 15,
    "start_time": "2024-07-01T20:06:20.624Z"
   },
   {
    "duration": 1797,
    "start_time": "2024-07-01T20:13:46.390Z"
   },
   {
    "duration": 431,
    "start_time": "2024-07-01T20:25:25.236Z"
   },
   {
    "duration": 656,
    "start_time": "2024-07-01T20:26:05.413Z"
   },
   {
    "duration": 430,
    "start_time": "2024-07-01T20:26:17.798Z"
   },
   {
    "duration": 321,
    "start_time": "2024-07-01T20:27:59.462Z"
   },
   {
    "duration": 337,
    "start_time": "2024-07-01T20:29:07.037Z"
   },
   {
    "duration": 357,
    "start_time": "2024-07-01T20:31:06.485Z"
   },
   {
    "duration": 1478,
    "start_time": "2024-07-01T20:31:37.904Z"
   },
   {
    "duration": 323,
    "start_time": "2024-07-01T20:32:19.137Z"
   },
   {
    "duration": 337,
    "start_time": "2024-07-01T20:32:28.653Z"
   },
   {
    "duration": 361,
    "start_time": "2024-07-01T20:33:25.172Z"
   },
   {
    "duration": 12,
    "start_time": "2024-07-01T20:34:12.332Z"
   },
   {
    "duration": 374,
    "start_time": "2024-07-01T20:34:18.393Z"
   },
   {
    "duration": 265,
    "start_time": "2024-07-01T20:34:34.598Z"
   },
   {
    "duration": 529,
    "start_time": "2024-07-01T20:43:25.274Z"
   },
   {
    "duration": 462,
    "start_time": "2024-07-01T20:43:37.298Z"
   },
   {
    "duration": 356,
    "start_time": "2024-07-01T20:56:05.266Z"
   },
   {
    "duration": 210,
    "start_time": "2024-07-01T21:08:16.016Z"
   },
   {
    "duration": 232,
    "start_time": "2024-07-01T21:09:13.371Z"
   },
   {
    "duration": 229,
    "start_time": "2024-07-01T21:09:51.831Z"
   },
   {
    "duration": 240,
    "start_time": "2024-07-01T21:10:20.278Z"
   },
   {
    "duration": 233,
    "start_time": "2024-07-01T21:10:54.741Z"
   },
   {
    "duration": 255,
    "start_time": "2024-07-01T21:11:34.292Z"
   },
   {
    "duration": 237,
    "start_time": "2024-07-01T21:12:52.298Z"
   },
   {
    "duration": 499,
    "start_time": "2024-07-01T21:13:01.706Z"
   },
   {
    "duration": 227,
    "start_time": "2024-07-01T21:14:16.251Z"
   },
   {
    "duration": 219,
    "start_time": "2024-07-01T21:14:46.139Z"
   },
   {
    "duration": 328,
    "start_time": "2024-07-01T21:15:24.800Z"
   },
   {
    "duration": 175,
    "start_time": "2024-07-01T21:15:46.484Z"
   },
   {
    "duration": 229,
    "start_time": "2024-07-01T21:16:01.227Z"
   },
   {
    "duration": 335,
    "start_time": "2024-07-01T21:20:48.006Z"
   },
   {
    "duration": 321,
    "start_time": "2024-07-01T23:36:52.403Z"
   },
   {
    "duration": 27,
    "start_time": "2024-07-01T23:37:15.070Z"
   },
   {
    "duration": 1182,
    "start_time": "2024-07-01T23:39:06.986Z"
   },
   {
    "duration": 28,
    "start_time": "2024-07-01T23:39:12.453Z"
   },
   {
    "duration": 24,
    "start_time": "2024-07-01T23:39:15.506Z"
   },
   {
    "duration": 122,
    "start_time": "2024-07-01T23:39:48.038Z"
   },
   {
    "duration": 20,
    "start_time": "2024-07-01T23:40:01.069Z"
   },
   {
    "duration": 350,
    "start_time": "2024-07-01T23:40:06.420Z"
   },
   {
    "duration": 350,
    "start_time": "2024-07-02T00:23:15.663Z"
   },
   {
    "duration": 5577,
    "start_time": "2024-07-02T00:23:21.469Z"
   },
   {
    "duration": 914,
    "start_time": "2024-07-02T00:23:27.050Z"
   },
   {
    "duration": 0,
    "start_time": "2024-07-02T00:23:27.969Z"
   },
   {
    "duration": 0,
    "start_time": "2024-07-02T00:23:27.972Z"
   },
   {
    "duration": 0,
    "start_time": "2024-07-02T00:23:27.974Z"
   },
   {
    "duration": 0,
    "start_time": "2024-07-02T00:23:27.977Z"
   },
   {
    "duration": 0,
    "start_time": "2024-07-02T00:23:27.979Z"
   },
   {
    "duration": 45,
    "start_time": "2024-07-02T00:23:31.097Z"
   },
   {
    "duration": 200,
    "start_time": "2024-07-02T00:23:44.333Z"
   },
   {
    "duration": 29,
    "start_time": "2024-07-02T00:23:44.745Z"
   },
   {
    "duration": 20,
    "start_time": "2024-07-02T00:23:51.069Z"
   },
   {
    "duration": 23,
    "start_time": "2024-07-02T00:23:51.787Z"
   },
   {
    "duration": 19,
    "start_time": "2024-07-02T00:23:52.164Z"
   },
   {
    "duration": 15,
    "start_time": "2024-07-02T00:23:52.710Z"
   },
   {
    "duration": 17,
    "start_time": "2024-07-02T00:23:53.137Z"
   },
   {
    "duration": 24,
    "start_time": "2024-07-02T00:23:53.328Z"
   },
   {
    "duration": 530,
    "start_time": "2024-07-02T00:24:01.719Z"
   },
   {
    "duration": 44,
    "start_time": "2024-07-02T00:25:01.282Z"
   },
   {
    "duration": 483,
    "start_time": "2024-07-02T00:25:10.200Z"
   },
   {
    "duration": 14,
    "start_time": "2024-07-02T00:28:19.687Z"
   },
   {
    "duration": 49,
    "start_time": "2024-07-02T00:28:54.921Z"
   },
   {
    "duration": 312,
    "start_time": "2024-07-02T00:29:06.144Z"
   },
   {
    "duration": 23,
    "start_time": "2024-07-02T00:29:19.677Z"
   },
   {
    "duration": 788,
    "start_time": "2024-07-02T00:33:59.326Z"
   },
   {
    "duration": 15,
    "start_time": "2024-07-02T00:34:17.382Z"
   },
   {
    "duration": 23,
    "start_time": "2024-07-02T00:34:36.072Z"
   },
   {
    "duration": 477,
    "start_time": "2024-07-02T00:41:12.732Z"
   },
   {
    "duration": 16,
    "start_time": "2024-07-02T00:41:40.571Z"
   },
   {
    "duration": 201,
    "start_time": "2024-07-02T00:41:52.372Z"
   },
   {
    "duration": 23,
    "start_time": "2024-07-02T00:42:02.942Z"
   },
   {
    "duration": 14,
    "start_time": "2024-07-02T00:42:17.667Z"
   },
   {
    "duration": 12,
    "start_time": "2024-07-02T00:47:24.013Z"
   },
   {
    "duration": 234,
    "start_time": "2024-07-02T00:52:40.035Z"
   },
   {
    "duration": 339,
    "start_time": "2024-07-02T00:53:08.469Z"
   },
   {
    "duration": 333,
    "start_time": "2024-07-02T00:53:29.244Z"
   },
   {
    "duration": 459,
    "start_time": "2024-07-02T16:22:53.296Z"
   },
   {
    "duration": 6621,
    "start_time": "2024-07-02T16:23:10.438Z"
   },
   {
    "duration": 1435,
    "start_time": "2024-07-02T16:23:17.063Z"
   },
   {
    "duration": 0,
    "start_time": "2024-07-02T16:23:18.505Z"
   },
   {
    "duration": 0,
    "start_time": "2024-07-02T16:23:18.507Z"
   },
   {
    "duration": 0,
    "start_time": "2024-07-02T16:23:18.510Z"
   },
   {
    "duration": 0,
    "start_time": "2024-07-02T16:23:18.512Z"
   },
   {
    "duration": 0,
    "start_time": "2024-07-02T16:23:18.514Z"
   },
   {
    "duration": 0,
    "start_time": "2024-07-02T16:23:18.515Z"
   },
   {
    "duration": 0,
    "start_time": "2024-07-02T16:23:18.516Z"
   },
   {
    "duration": 0,
    "start_time": "2024-07-02T16:23:18.517Z"
   },
   {
    "duration": 0,
    "start_time": "2024-07-02T16:23:18.531Z"
   },
   {
    "duration": 0,
    "start_time": "2024-07-02T16:23:18.532Z"
   },
   {
    "duration": 0,
    "start_time": "2024-07-02T16:23:18.534Z"
   },
   {
    "duration": 0,
    "start_time": "2024-07-02T16:23:18.542Z"
   },
   {
    "duration": 0,
    "start_time": "2024-07-02T16:23:18.547Z"
   },
   {
    "duration": 0,
    "start_time": "2024-07-02T16:23:18.550Z"
   },
   {
    "duration": 0,
    "start_time": "2024-07-02T16:23:18.552Z"
   },
   {
    "duration": 0,
    "start_time": "2024-07-02T16:23:18.555Z"
   },
   {
    "duration": 0,
    "start_time": "2024-07-02T16:23:18.557Z"
   },
   {
    "duration": 0,
    "start_time": "2024-07-02T16:23:18.559Z"
   },
   {
    "duration": 0,
    "start_time": "2024-07-02T16:23:18.561Z"
   },
   {
    "duration": 0,
    "start_time": "2024-07-02T16:23:18.563Z"
   },
   {
    "duration": 0,
    "start_time": "2024-07-02T16:23:18.565Z"
   },
   {
    "duration": 0,
    "start_time": "2024-07-02T16:23:18.567Z"
   },
   {
    "duration": 0,
    "start_time": "2024-07-02T16:23:18.570Z"
   },
   {
    "duration": 0,
    "start_time": "2024-07-02T16:23:18.572Z"
   },
   {
    "duration": 0,
    "start_time": "2024-07-02T16:23:18.574Z"
   },
   {
    "duration": 0,
    "start_time": "2024-07-02T16:23:18.576Z"
   },
   {
    "duration": 0,
    "start_time": "2024-07-02T16:23:18.578Z"
   },
   {
    "duration": 0,
    "start_time": "2024-07-02T16:23:18.581Z"
   },
   {
    "duration": 0,
    "start_time": "2024-07-02T16:23:18.583Z"
   },
   {
    "duration": 1,
    "start_time": "2024-07-02T16:23:18.585Z"
   },
   {
    "duration": 32,
    "start_time": "2024-07-02T16:23:39.696Z"
   },
   {
    "duration": 36,
    "start_time": "2024-07-02T16:23:41.659Z"
   },
   {
    "duration": 25,
    "start_time": "2024-07-02T16:23:42.080Z"
   },
   {
    "duration": 22,
    "start_time": "2024-07-02T16:23:43.958Z"
   },
   {
    "duration": 30,
    "start_time": "2024-07-02T16:23:44.650Z"
   },
   {
    "duration": 26,
    "start_time": "2024-07-02T16:23:44.963Z"
   },
   {
    "duration": 18,
    "start_time": "2024-07-02T16:23:46.943Z"
   },
   {
    "duration": 274,
    "start_time": "2024-07-02T16:23:47.308Z"
   },
   {
    "duration": 17,
    "start_time": "2024-07-02T16:23:48.311Z"
   },
   {
    "duration": 328,
    "start_time": "2024-07-02T16:23:48.555Z"
   },
   {
    "duration": 16,
    "start_time": "2024-07-02T16:23:49.210Z"
   },
   {
    "duration": 14,
    "start_time": "2024-07-02T16:23:49.885Z"
   },
   {
    "duration": 23,
    "start_time": "2024-07-02T16:23:51.326Z"
   },
   {
    "duration": 46,
    "start_time": "2024-07-02T16:23:52.725Z"
   },
   {
    "duration": 19,
    "start_time": "2024-07-02T16:23:53.796Z"
   },
   {
    "duration": 328,
    "start_time": "2024-07-02T16:23:55.271Z"
   },
   {
    "duration": 329,
    "start_time": "2024-07-02T16:24:13.835Z"
   },
   {
    "duration": 349,
    "start_time": "2024-07-02T16:24:41.398Z"
   },
   {
    "duration": 691,
    "start_time": "2024-07-02T16:28:10.331Z"
   },
   {
    "duration": 537,
    "start_time": "2024-07-02T16:29:01.008Z"
   },
   {
    "duration": 118,
    "start_time": "2024-07-02T16:33:01.343Z"
   },
   {
    "duration": 52,
    "start_time": "2024-07-02T16:33:36.971Z"
   },
   {
    "duration": 547,
    "start_time": "2024-07-02T16:33:53.398Z"
   },
   {
    "duration": 52,
    "start_time": "2024-07-02T16:37:36.427Z"
   },
   {
    "duration": 649,
    "start_time": "2024-07-02T16:39:01.872Z"
   },
   {
    "duration": 36,
    "start_time": "2024-07-02T16:42:47.613Z"
   },
   {
    "duration": 62,
    "start_time": "2024-07-02T16:44:27.947Z"
   },
   {
    "duration": 226,
    "start_time": "2024-07-02T16:46:56.771Z"
   },
   {
    "duration": 82,
    "start_time": "2024-07-02T16:47:21.379Z"
   },
   {
    "duration": 32,
    "start_time": "2024-07-02T16:47:50.078Z"
   },
   {
    "duration": 24,
    "start_time": "2024-07-02T16:48:26.495Z"
   },
   {
    "duration": 18,
    "start_time": "2024-07-02T16:50:05.083Z"
   },
   {
    "duration": 37,
    "start_time": "2024-07-02T16:51:14.027Z"
   },
   {
    "duration": 24,
    "start_time": "2024-07-02T16:51:43.682Z"
   }
  ],
  "kernelspec": {
   "display_name": "Python 3 (ipykernel)",
   "language": "python",
   "name": "python3"
  },
  "language_info": {
   "codemirror_mode": {
    "name": "ipython",
    "version": 3
   },
   "file_extension": ".py",
   "mimetype": "text/x-python",
   "name": "python",
   "nbconvert_exporter": "python",
   "pygments_lexer": "ipython3",
   "version": "3.9.19"
  },
  "toc": {
   "base_numbering": 1,
   "nav_menu": {},
   "number_sections": true,
   "sideBar": true,
   "skip_h1_title": true,
   "title_cell": "Table of Contents",
   "title_sidebar": "Contents",
   "toc_cell": false,
   "toc_position": {},
   "toc_section_display": true,
   "toc_window_display": false
  }
 },
 "nbformat": 4,
 "nbformat_minor": 2
}
